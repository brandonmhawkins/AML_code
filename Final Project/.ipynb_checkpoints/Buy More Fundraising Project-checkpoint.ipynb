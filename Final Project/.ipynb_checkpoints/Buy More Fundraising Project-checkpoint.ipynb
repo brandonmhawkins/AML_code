{
 "cells": [
  {
   "cell_type": "markdown",
   "metadata": {},
   "source": [
    "You will need to run the following code in order to use this notebook:\n",
    "\n",
    "`conda install -c h2oai h2o`\n",
    "\n",
    "https://github.com/h2oai/h2o-tutorials\n",
    "\n",
    "## Preprocessing"
   ]
  },
  {
   "cell_type": "code",
   "execution_count": 1,
   "metadata": {},
   "outputs": [],
   "source": [
    "#Import the models we will be using\n",
    "import h2o\n",
    "# Import H2O Grid Search:\n",
    "from h2o.grid.grid_search import H2OGridSearch"
   ]
  },
  {
   "cell_type": "code",
   "execution_count": 2,
   "metadata": {},
   "outputs": [
    {
     "name": "stdout",
     "output_type": "stream",
     "text": [
      "Checking whether there is an H2O instance running at http://localhost:54321..... not found.\n",
      "Attempting to start a local H2O server...\n",
      "; Java HotSpot(TM) Client VM (build 25.181-b13, mixed mode)\n"
     ]
    },
    {
     "name": "stderr",
     "output_type": "stream",
     "text": [
      "C:\\Users\\zgeorge\\AppData\\Local\\Continuum\\anaconda3\\lib\\site-packages\\h2o\\backend\\server.py:369: UserWarning:   You have a 32-bit version of Java. H2O works best with 64-bit Java.\n",
      "  Please download the latest 64-bit Java SE JDK from Oracle.\n",
      "\n",
      "  warn(\"  You have a 32-bit version of Java. H2O works best with 64-bit Java.\\n\"\n"
     ]
    },
    {
     "name": "stdout",
     "output_type": "stream",
     "text": [
      "  Starting server from C:\\Users\\zgeorge\\AppData\\Local\\Continuum\\anaconda3\\lib\\site-packages\\h2o\\backend\\bin\\h2o.jar\n",
      "  Ice root: C:\\Users\\zgeorge\\AppData\\Local\\Temp\\tmp6w6t84au\n",
      "  JVM stdout: C:\\Users\\zgeorge\\AppData\\Local\\Temp\\tmp6w6t84au\\h2o_zgeorge_started_from_python.out\n",
      "  JVM stderr: C:\\Users\\zgeorge\\AppData\\Local\\Temp\\tmp6w6t84au\\h2o_zgeorge_started_from_python.err\n",
      "  Server is running at http://127.0.0.1:54321\n",
      "Connecting to H2O server at http://127.0.0.1:54321... successful.\n"
     ]
    },
    {
     "data": {
      "text/html": [
       "<div style=\"overflow:auto\"><table style=\"width:50%\"><tr><td>H2O cluster uptime:</td>\n",
       "<td>03 secs</td></tr>\n",
       "<tr><td>H2O cluster timezone:</td>\n",
       "<td>America/Denver</td></tr>\n",
       "<tr><td>H2O data parsing timezone:</td>\n",
       "<td>UTC</td></tr>\n",
       "<tr><td>H2O cluster version:</td>\n",
       "<td>3.22.0.2</td></tr>\n",
       "<tr><td>H2O cluster version age:</td>\n",
       "<td>11 days </td></tr>\n",
       "<tr><td>H2O cluster name:</td>\n",
       "<td>H2O_from_python_zgeorge_hyy8rr</td></tr>\n",
       "<tr><td>H2O cluster total nodes:</td>\n",
       "<td>1</td></tr>\n",
       "<tr><td>H2O cluster free memory:</td>\n",
       "<td>247.5 Mb</td></tr>\n",
       "<tr><td>H2O cluster total cores:</td>\n",
       "<td>4</td></tr>\n",
       "<tr><td>H2O cluster allowed cores:</td>\n",
       "<td>4</td></tr>\n",
       "<tr><td>H2O cluster status:</td>\n",
       "<td>accepting new members, healthy</td></tr>\n",
       "<tr><td>H2O connection url:</td>\n",
       "<td>http://127.0.0.1:54321</td></tr>\n",
       "<tr><td>H2O connection proxy:</td>\n",
       "<td>None</td></tr>\n",
       "<tr><td>H2O internal security:</td>\n",
       "<td>False</td></tr>\n",
       "<tr><td>H2O API Extensions:</td>\n",
       "<td>Algos, AutoML, Core V3, Core V4</td></tr>\n",
       "<tr><td>Python version:</td>\n",
       "<td>3.6.7 final</td></tr></table></div>"
      ],
      "text/plain": [
       "--------------------------  -------------------------------\n",
       "H2O cluster uptime:         03 secs\n",
       "H2O cluster timezone:       America/Denver\n",
       "H2O data parsing timezone:  UTC\n",
       "H2O cluster version:        3.22.0.2\n",
       "H2O cluster version age:    11 days\n",
       "H2O cluster name:           H2O_from_python_zgeorge_hyy8rr\n",
       "H2O cluster total nodes:    1\n",
       "H2O cluster free memory:    247.5 Mb\n",
       "H2O cluster total cores:    4\n",
       "H2O cluster allowed cores:  4\n",
       "H2O cluster status:         accepting new members, healthy\n",
       "H2O connection url:         http://127.0.0.1:54321\n",
       "H2O connection proxy:\n",
       "H2O internal security:      False\n",
       "H2O API Extensions:         Algos, AutoML, Core V3, Core V4\n",
       "Python version:             3.6.7 final\n",
       "--------------------------  -------------------------------"
      ]
     },
     "metadata": {},
     "output_type": "display_data"
    }
   ],
   "source": [
    "h2o.init()"
   ]
  },
  {
   "cell_type": "code",
   "execution_count": 3,
   "metadata": {},
   "outputs": [
    {
     "name": "stdout",
     "output_type": "stream",
     "text": [
      "Parse progress: |█████████████████████████████████████████████████████████| 100%\n"
     ]
    }
   ],
   "source": [
    "#data = h2o.import_file(r\"C:\\Users\\zgeorge\\Dropbox (CMN Hospitals)\\George\\School\\Fall 2018\\Applied Machine Learning\\AML_code\\Final Project\\Buy More Data.csv\")\n",
    "\n",
    "funds_csv = r\"C:\\Users\\zgeorge\\Dropbox (CMN Hospitals)\\George\\School\\Fall 2018\\Applied Machine Learning\\AML_code\\Final Project\\Buy More Data.csv\"  # modify this for your machine\n",
    "data = h2o.import_file(funds_csv)"
   ]
  },
  {
   "cell_type": "code",
   "execution_count": 4,
   "metadata": {},
   "outputs": [
    {
     "data": {
      "text/plain": [
       "(21353, 28)"
      ]
     },
     "execution_count": 4,
     "metadata": {},
     "output_type": "execute_result"
    }
   ],
   "source": [
    "data.shape"
   ]
  },
  {
   "cell_type": "code",
   "execution_count": 5,
   "metadata": {},
   "outputs": [
    {
     "data": {
      "text/plain": [
       "[['0', '1']]"
      ]
     },
     "execution_count": 5,
     "metadata": {},
     "output_type": "execute_result"
    }
   ],
   "source": [
    "data['target'] = data['target'].asfactor()  #encode the binary repsonse as a factor\n",
    "data['target'].levels()  #optional: after encoding, this shows the two factor levels, '0' and '1'"
   ]
  },
  {
   "cell_type": "code",
   "execution_count": 6,
   "metadata": {},
   "outputs": [],
   "source": [
    "# Partition data into 70%, 15%, 15% chunks\n",
    "# Setting a seed will guarantee reproducibility\n",
    "\n",
    "splits = data.split_frame(ratios=[0.7, 0.15], seed=1)  \n",
    "\n",
    "train = splits[0]\n",
    "valid = splits[1]\n",
    "test = splits[2]"
   ]
  },
  {
   "cell_type": "code",
   "execution_count": 7,
   "metadata": {},
   "outputs": [
    {
     "name": "stdout",
     "output_type": "stream",
     "text": [
      "15010\n",
      "3202\n",
      "3141\n"
     ]
    }
   ],
   "source": [
    "print(train.nrow)\n",
    "print(valid.nrow)\n",
    "print(test.nrow)"
   ]
  },
  {
   "cell_type": "code",
   "execution_count": 8,
   "metadata": {},
   "outputs": [],
   "source": [
    "y = 'target'\n",
    "x = list(data.columns)"
   ]
  },
  {
   "cell_type": "code",
   "execution_count": 9,
   "metadata": {},
   "outputs": [],
   "source": [
    "x.remove(y)  #remove the response\n",
    "x.remove('change')  #remove the interest rate column because it's correlated with the outcome"
   ]
  },
  {
   "cell_type": "code",
   "execution_count": 10,
   "metadata": {},
   "outputs": [
    {
     "data": {
      "text/plain": [
       "['Locationid',\n",
       " 'Location',\n",
       " 'LocPropertyType',\n",
       " 'LocProvince',\n",
       " 'LocPostal',\n",
       " 'LocDistrict',\n",
       " 'LocRegion',\n",
       " 'RegionName',\n",
       " 'Market',\n",
       " 'PopulationRank',\n",
       " 'FundraisingYear',\n",
       " 'cy_funds',\n",
       " 'cy_1_funds',\n",
       " 'cy_2_funds',\n",
       " 'cy_checkins',\n",
       " 'cy_1_checkins',\n",
       " 'cy_2_checkins',\n",
       " 'cy_contacts',\n",
       " 'cy_1_contacts',\n",
       " 'cy_2_contacts',\n",
       " 'cy_images',\n",
       " 'cy_1_images',\n",
       " 'cy_2_images',\n",
       " 'cy_notes',\n",
       " 'cy_1_notes',\n",
       " 'cy_2_notes']"
      ]
     },
     "execution_count": 10,
     "metadata": {},
     "output_type": "execute_result"
    }
   ],
   "source": [
    "# List of predictor columns\n",
    "x"
   ]
  },
  {
   "cell_type": "markdown",
   "metadata": {},
   "source": [
    "### Linear Regression"
   ]
  },
  {
   "cell_type": "code",
   "execution_count": 11,
   "metadata": {},
   "outputs": [],
   "source": [
    "# Import H2O GLM:\n",
    "from h2o.estimators.glm import H2OGeneralizedLinearEstimator"
   ]
  },
  {
   "cell_type": "code",
   "execution_count": 12,
   "metadata": {},
   "outputs": [],
   "source": [
    "# Initialize the GLM estimator:\n",
    "# Similar to R's glm() and H2O's R GLM, H2O's GLM has the \"family\" argument\n",
    "\n",
    "glm_fit1 = H2OGeneralizedLinearEstimator(family='binomial', model_id='glm_fit1')"
   ]
  },
  {
   "cell_type": "code",
   "execution_count": 13,
   "metadata": {},
   "outputs": [
    {
     "name": "stdout",
     "output_type": "stream",
     "text": [
      "glm Model Build progress: |███████████████████████████████████████████████| 100%\n"
     ]
    }
   ],
   "source": [
    "glm_fit1.train(x=x, y=y, training_frame=train)"
   ]
  },
  {
   "cell_type": "code",
   "execution_count": 14,
   "metadata": {},
   "outputs": [
    {
     "name": "stdout",
     "output_type": "stream",
     "text": [
      "glm Model Build progress: |███████████████████████████████████████████████| 100%\n"
     ]
    }
   ],
   "source": [
    "glm_fit2 = H2OGeneralizedLinearEstimator(family='binomial', model_id='glm_fit2', lambda_search=True)\n",
    "glm_fit2.train(x=x, y=y, training_frame=train, validation_frame=valid)"
   ]
  },
  {
   "cell_type": "code",
   "execution_count": 15,
   "metadata": {},
   "outputs": [],
   "source": [
    "glm_perf1 = glm_fit1.model_performance(test)\n",
    "glm_perf2 = glm_fit2.model_performance(test)"
   ]
  },
  {
   "cell_type": "code",
   "execution_count": 16,
   "metadata": {},
   "outputs": [
    {
     "name": "stdout",
     "output_type": "stream",
     "text": [
      "\n",
      "ModelMetricsBinomialGLM: glm\n",
      "** Reported on test data. **\n",
      "\n",
      "MSE: 0.018162687706667974\n",
      "RMSE: 0.13476901612265327\n",
      "LogLoss: 0.07452178906817303\n",
      "Null degrees of freedom: 3140\n",
      "Residual degrees of freedom: 3087\n",
      "Null deviance: 3147.763150497247\n",
      "Residual deviance: 468.1458789262629\n",
      "AIC: 576.1458789262629\n",
      "AUC: 0.9996310238676293\n",
      "pr_auc: 0.8332830482084576\n",
      "Gini: 0.9992620477352585\n",
      "Confusion Matrix (Act/Pred) for max f1 @ threshold = 0.43921408008400464: \n"
     ]
    },
    {
     "data": {
      "text/html": [
       "<div style=\"overflow:auto\"><table style=\"width:50%\"><tr><td><b></b></td>\n",
       "<td><b>0</b></td>\n",
       "<td><b>1</b></td>\n",
       "<td><b>Error</b></td>\n",
       "<td><b>Rate</b></td></tr>\n",
       "<tr><td>0</td>\n",
       "<td>2501.0</td>\n",
       "<td>11.0</td>\n",
       "<td>0.0044</td>\n",
       "<td> (11.0/2512.0)</td></tr>\n",
       "<tr><td>1</td>\n",
       "<td>9.0</td>\n",
       "<td>620.0</td>\n",
       "<td>0.0143</td>\n",
       "<td> (9.0/629.0)</td></tr>\n",
       "<tr><td>Total</td>\n",
       "<td>2510.0</td>\n",
       "<td>631.0</td>\n",
       "<td>0.0064</td>\n",
       "<td> (20.0/3141.0)</td></tr></table></div>"
      ],
      "text/plain": [
       "       0     1    Error    Rate\n",
       "-----  ----  ---  -------  -------------\n",
       "0      2501  11   0.0044   (11.0/2512.0)\n",
       "1      9     620  0.0143   (9.0/629.0)\n",
       "Total  2510  631  0.0064   (20.0/3141.0)"
      ]
     },
     "metadata": {},
     "output_type": "display_data"
    },
    {
     "name": "stdout",
     "output_type": "stream",
     "text": [
      "Maximum Metrics: Maximum metrics at their respective thresholds\n",
      "\n"
     ]
    },
    {
     "data": {
      "text/html": [
       "<div style=\"overflow:auto\"><table style=\"width:50%\"><tr><td><b>metric</b></td>\n",
       "<td><b>threshold</b></td>\n",
       "<td><b>value</b></td>\n",
       "<td><b>idx</b></td></tr>\n",
       "<tr><td>max f1</td>\n",
       "<td>0.4392141</td>\n",
       "<td>0.9841270</td>\n",
       "<td>189.0</td></tr>\n",
       "<tr><td>max f2</td>\n",
       "<td>0.4172890</td>\n",
       "<td>0.9898798</td>\n",
       "<td>196.0</td></tr>\n",
       "<tr><td>max f0point5</td>\n",
       "<td>0.4620772</td>\n",
       "<td>0.9852611</td>\n",
       "<td>185.0</td></tr>\n",
       "<tr><td>max accuracy</td>\n",
       "<td>0.4392141</td>\n",
       "<td>0.9936326</td>\n",
       "<td>189.0</td></tr>\n",
       "<tr><td>max precision</td>\n",
       "<td>0.9999574</td>\n",
       "<td>1.0</td>\n",
       "<td>0.0</td></tr>\n",
       "<tr><td>max recall</td>\n",
       "<td>0.2375204</td>\n",
       "<td>1.0</td>\n",
       "<td>259.0</td></tr>\n",
       "<tr><td>max specificity</td>\n",
       "<td>0.9999574</td>\n",
       "<td>1.0</td>\n",
       "<td>0.0</td></tr>\n",
       "<tr><td>max absolute_mcc</td>\n",
       "<td>0.4392141</td>\n",
       "<td>0.9801465</td>\n",
       "<td>189.0</td></tr>\n",
       "<tr><td>max min_per_class_accuracy</td>\n",
       "<td>0.4195840</td>\n",
       "<td>0.9924363</td>\n",
       "<td>195.0</td></tr>\n",
       "<tr><td>max mean_per_class_accuracy</td>\n",
       "<td>0.4172890</td>\n",
       "<td>0.9936344</td>\n",
       "<td>196.0</td></tr></table></div>"
      ],
      "text/plain": [
       "metric                       threshold    value     idx\n",
       "---------------------------  -----------  --------  -----\n",
       "max f1                       0.439214     0.984127  189\n",
       "max f2                       0.417289     0.98988   196\n",
       "max f0point5                 0.462077     0.985261  185\n",
       "max accuracy                 0.439214     0.993633  189\n",
       "max precision                0.999957     1         0\n",
       "max recall                   0.23752      1         259\n",
       "max specificity              0.999957     1         0\n",
       "max absolute_mcc             0.439214     0.980146  189\n",
       "max min_per_class_accuracy   0.419584     0.992436  195\n",
       "max mean_per_class_accuracy  0.417289     0.993634  196"
      ]
     },
     "metadata": {},
     "output_type": "display_data"
    },
    {
     "name": "stdout",
     "output_type": "stream",
     "text": [
      "Gains/Lift Table: Avg response rate: 20.03 %, avg score: 20.58 %\n",
      "\n"
     ]
    },
    {
     "data": {
      "text/html": [
       "<div style=\"overflow:auto\"><table style=\"width:50%\"><tr><td><b></b></td>\n",
       "<td><b>group</b></td>\n",
       "<td><b>cumulative_data_fraction</b></td>\n",
       "<td><b>lower_threshold</b></td>\n",
       "<td><b>lift</b></td>\n",
       "<td><b>cumulative_lift</b></td>\n",
       "<td><b>response_rate</b></td>\n",
       "<td><b>score</b></td>\n",
       "<td><b>cumulative_response_rate</b></td>\n",
       "<td><b>cumulative_score</b></td>\n",
       "<td><b>capture_rate</b></td>\n",
       "<td><b>cumulative_capture_rate</b></td>\n",
       "<td><b>gain</b></td>\n",
       "<td><b>cumulative_gain</b></td></tr>\n",
       "<tr><td></td>\n",
       "<td>1</td>\n",
       "<td>0.0101878</td>\n",
       "<td>0.9999997</td>\n",
       "<td>4.9936407</td>\n",
       "<td>4.9936407</td>\n",
       "<td>1.0</td>\n",
       "<td>1.0000000</td>\n",
       "<td>1.0</td>\n",
       "<td>1.0000000</td>\n",
       "<td>0.0508744</td>\n",
       "<td>0.0508744</td>\n",
       "<td>399.3640700</td>\n",
       "<td>399.3640700</td></tr>\n",
       "<tr><td></td>\n",
       "<td>2</td>\n",
       "<td>0.0200573</td>\n",
       "<td>0.9999812</td>\n",
       "<td>4.9936407</td>\n",
       "<td>4.9936407</td>\n",
       "<td>1.0</td>\n",
       "<td>0.9999954</td>\n",
       "<td>1.0</td>\n",
       "<td>0.9999977</td>\n",
       "<td>0.0492846</td>\n",
       "<td>0.1001590</td>\n",
       "<td>399.3640700</td>\n",
       "<td>399.3640700</td></tr>\n",
       "<tr><td></td>\n",
       "<td>3</td>\n",
       "<td>0.0302451</td>\n",
       "<td>0.9998350</td>\n",
       "<td>4.9936407</td>\n",
       "<td>4.9936407</td>\n",
       "<td>1.0</td>\n",
       "<td>0.9999289</td>\n",
       "<td>1.0</td>\n",
       "<td>0.9999745</td>\n",
       "<td>0.0508744</td>\n",
       "<td>0.1510334</td>\n",
       "<td>399.3640700</td>\n",
       "<td>399.3640700</td></tr>\n",
       "<tr><td></td>\n",
       "<td>4</td>\n",
       "<td>0.0401146</td>\n",
       "<td>0.9993617</td>\n",
       "<td>4.9936407</td>\n",
       "<td>4.9936407</td>\n",
       "<td>1.0</td>\n",
       "<td>0.9996211</td>\n",
       "<td>1.0</td>\n",
       "<td>0.9998876</td>\n",
       "<td>0.0492846</td>\n",
       "<td>0.2003180</td>\n",
       "<td>399.3640700</td>\n",
       "<td>399.3640700</td></tr>\n",
       "<tr><td></td>\n",
       "<td>5</td>\n",
       "<td>0.0503025</td>\n",
       "<td>0.9974691</td>\n",
       "<td>4.9936407</td>\n",
       "<td>4.9936407</td>\n",
       "<td>1.0</td>\n",
       "<td>0.9985095</td>\n",
       "<td>1.0</td>\n",
       "<td>0.9996085</td>\n",
       "<td>0.0508744</td>\n",
       "<td>0.2511924</td>\n",
       "<td>399.3640700</td>\n",
       "<td>399.3640700</td></tr>\n",
       "<tr><td></td>\n",
       "<td>6</td>\n",
       "<td>0.1002865</td>\n",
       "<td>0.9390627</td>\n",
       "<td>4.9936407</td>\n",
       "<td>4.9936407</td>\n",
       "<td>1.0</td>\n",
       "<td>0.9799442</td>\n",
       "<td>1.0</td>\n",
       "<td>0.9898075</td>\n",
       "<td>0.2496025</td>\n",
       "<td>0.5007949</td>\n",
       "<td>399.3640700</td>\n",
       "<td>399.3640700</td></tr>\n",
       "<tr><td></td>\n",
       "<td>7</td>\n",
       "<td>0.1502706</td>\n",
       "<td>0.7556378</td>\n",
       "<td>4.9936407</td>\n",
       "<td>4.9936407</td>\n",
       "<td>1.0</td>\n",
       "<td>0.8601841</td>\n",
       "<td>1.0</td>\n",
       "<td>0.9466913</td>\n",
       "<td>0.2496025</td>\n",
       "<td>0.7503975</td>\n",
       "<td>399.3640700</td>\n",
       "<td>399.3640700</td></tr>\n",
       "<tr><td></td>\n",
       "<td>8</td>\n",
       "<td>0.2002547</td>\n",
       "<td>0.4453752</td>\n",
       "<td>4.6437678</td>\n",
       "<td>4.9063115</td>\n",
       "<td>0.9299363</td>\n",
       "<td>0.6020305</td>\n",
       "<td>0.9825119</td>\n",
       "<td>0.8606631</td>\n",
       "<td>0.2321145</td>\n",
       "<td>0.9825119</td>\n",
       "<td>364.3767784</td>\n",
       "<td>390.6311530</td></tr>\n",
       "<tr><td></td>\n",
       "<td>9</td>\n",
       "<td>0.3002229</td>\n",
       "<td>0.1269162</td>\n",
       "<td>0.1749365</td>\n",
       "<td>3.3308590</td>\n",
       "<td>0.0350318</td>\n",
       "<td>0.2596704</td>\n",
       "<td>0.6670201</td>\n",
       "<td>0.6605446</td>\n",
       "<td>0.0174881</td>\n",
       "<td>1.0</td>\n",
       "<td>-82.5063542</td>\n",
       "<td>233.0858961</td></tr>\n",
       "<tr><td></td>\n",
       "<td>10</td>\n",
       "<td>0.4001910</td>\n",
       "<td>0.0224178</td>\n",
       "<td>0.0</td>\n",
       "<td>2.4988067</td>\n",
       "<td>0.0</td>\n",
       "<td>0.0638696</td>\n",
       "<td>0.5003978</td>\n",
       "<td>0.5114945</td>\n",
       "<td>0.0</td>\n",
       "<td>1.0</td>\n",
       "<td>-100.0</td>\n",
       "<td>149.8806683</td></tr>\n",
       "<tr><td></td>\n",
       "<td>11</td>\n",
       "<td>0.5001592</td>\n",
       "<td>0.0029164</td>\n",
       "<td>0.0</td>\n",
       "<td>1.9993635</td>\n",
       "<td>0.0</td>\n",
       "<td>0.0102364</td>\n",
       "<td>0.4003819</td>\n",
       "<td>0.4113067</td>\n",
       "<td>0.0</td>\n",
       "<td>1.0</td>\n",
       "<td>-100.0</td>\n",
       "<td>99.9363463</td></tr>\n",
       "<tr><td></td>\n",
       "<td>12</td>\n",
       "<td>0.6001273</td>\n",
       "<td>0.0001918</td>\n",
       "<td>0.0</td>\n",
       "<td>1.6663130</td>\n",
       "<td>0.0</td>\n",
       "<td>0.0010363</td>\n",
       "<td>0.3336870</td>\n",
       "<td>0.3429646</td>\n",
       "<td>0.0</td>\n",
       "<td>1.0</td>\n",
       "<td>-100.0</td>\n",
       "<td>66.6312997</td></tr>\n",
       "<tr><td></td>\n",
       "<td>13</td>\n",
       "<td>0.7000955</td>\n",
       "<td>0.0000109</td>\n",
       "<td>0.0</td>\n",
       "<td>1.4283765</td>\n",
       "<td>0.0</td>\n",
       "<td>0.0000624</td>\n",
       "<td>0.2860391</td>\n",
       "<td>0.2940008</td>\n",
       "<td>0.0</td>\n",
       "<td>1.0</td>\n",
       "<td>-100.0</td>\n",
       "<td>42.8376535</td></tr>\n",
       "<tr><td></td>\n",
       "<td>14</td>\n",
       "<td>0.8000637</td>\n",
       "<td>0.0000002</td>\n",
       "<td>0.0</td>\n",
       "<td>1.2499005</td>\n",
       "<td>0.0</td>\n",
       "<td>0.0000029</td>\n",
       "<td>0.2502984</td>\n",
       "<td>0.2572657</td>\n",
       "<td>0.0</td>\n",
       "<td>1.0</td>\n",
       "<td>-100.0</td>\n",
       "<td>24.9900517</td></tr>\n",
       "<tr><td></td>\n",
       "<td>15</td>\n",
       "<td>0.9000318</td>\n",
       "<td>0.0000000</td>\n",
       "<td>0.0</td>\n",
       "<td>1.1110718</td>\n",
       "<td>0.0</td>\n",
       "<td>0.0000000</td>\n",
       "<td>0.2224973</td>\n",
       "<td>0.2286907</td>\n",
       "<td>0.0</td>\n",
       "<td>1.0</td>\n",
       "<td>-100.0</td>\n",
       "<td>11.1071808</td></tr>\n",
       "<tr><td></td>\n",
       "<td>16</td>\n",
       "<td>1.0</td>\n",
       "<td>0.0000000</td>\n",
       "<td>0.0</td>\n",
       "<td>1.0</td>\n",
       "<td>0.0</td>\n",
       "<td>0.0000000</td>\n",
       "<td>0.2002547</td>\n",
       "<td>0.2058290</td>\n",
       "<td>0.0</td>\n",
       "<td>1.0</td>\n",
       "<td>-100.0</td>\n",
       "<td>0.0</td></tr></table></div>"
      ],
      "text/plain": [
       "    group    cumulative_data_fraction    lower_threshold    lift      cumulative_lift    response_rate    score        cumulative_response_rate    cumulative_score    capture_rate    cumulative_capture_rate    gain      cumulative_gain\n",
       "--  -------  --------------------------  -----------------  --------  -----------------  ---------------  -----------  --------------------------  ------------------  --------------  -------------------------  --------  -----------------\n",
       "    1        0.0101878                   1                  4.99364   4.99364            1                1            1                           1                   0.0508744       0.0508744                  399.364   399.364\n",
       "    2        0.0200573                   0.999981           4.99364   4.99364            1                0.999995     1                           0.999998            0.0492846       0.100159                   399.364   399.364\n",
       "    3        0.0302451                   0.999835           4.99364   4.99364            1                0.999929     1                           0.999975            0.0508744       0.151033                   399.364   399.364\n",
       "    4        0.0401146                   0.999362           4.99364   4.99364            1                0.999621     1                           0.999888            0.0492846       0.200318                   399.364   399.364\n",
       "    5        0.0503025                   0.997469           4.99364   4.99364            1                0.99851      1                           0.999608            0.0508744       0.251192                   399.364   399.364\n",
       "    6        0.100287                    0.939063           4.99364   4.99364            1                0.979944     1                           0.989808            0.249603        0.500795                   399.364   399.364\n",
       "    7        0.150271                    0.755638           4.99364   4.99364            1                0.860184     1                           0.946691            0.249603        0.750397                   399.364   399.364\n",
       "    8        0.200255                    0.445375           4.64377   4.90631            0.929936         0.60203      0.982512                    0.860663            0.232114        0.982512                   364.377   390.631\n",
       "    9        0.300223                    0.126916           0.174936  3.33086            0.0350318        0.25967      0.66702                     0.660545            0.0174881       1                          -82.5064  233.086\n",
       "    10       0.400191                    0.0224178          0         2.49881            0                0.0638696    0.500398                    0.511495            0               1                          -100      149.881\n",
       "    11       0.500159                    0.00291644         0         1.99936            0                0.0102364    0.400382                    0.411307            0               1                          -100      99.9363\n",
       "    12       0.600127                    0.000191803        0         1.66631            0                0.00103633   0.333687                    0.342965            0               1                          -100      66.6313\n",
       "    13       0.700096                    1.08657e-05        0         1.42838            0                6.23675e-05  0.286039                    0.294001            0               1                          -100      42.8377\n",
       "    14       0.800064                    1.51481e-07        0         1.2499             0                2.86082e-06  0.250298                    0.257266            0               1                          -100      24.9901\n",
       "    15       0.900032                    1.57606e-10        0         1.11107            0                2.50435e-08  0.222497                    0.228691            0               1                          -100      11.1072\n",
       "    16       1                           1.11108e-63        0         1                  0                1.35023e-11  0.200255                    0.205829            0               1                          -100      0"
      ]
     },
     "metadata": {},
     "output_type": "display_data"
    },
    {
     "name": "stdout",
     "output_type": "stream",
     "text": [
      "\n",
      "\n",
      "\n",
      "ModelMetricsBinomialGLM: glm\n",
      "** Reported on test data. **\n",
      "\n",
      "MSE: 0.009044879351452083\n",
      "RMSE: 0.09510457061283692\n",
      "LogLoss: 0.03625195255117549\n",
      "Null degrees of freedom: 3140\n",
      "Residual degrees of freedom: 2964\n",
      "Null deviance: 3147.763150497247\n",
      "Residual deviance: 227.73476592648436\n",
      "AIC: 581.7347659264843\n",
      "AUC: 0.9996810223486882\n",
      "pr_auc: 0.5854028735352219\n",
      "Gini: 0.9993620446973763\n",
      "Confusion Matrix (Act/Pred) for max f1 @ threshold = 0.5073412472763165: \n"
     ]
    },
    {
     "data": {
      "text/html": [
       "<div style=\"overflow:auto\"><table style=\"width:50%\"><tr><td><b></b></td>\n",
       "<td><b>0</b></td>\n",
       "<td><b>1</b></td>\n",
       "<td><b>Error</b></td>\n",
       "<td><b>Rate</b></td></tr>\n",
       "<tr><td>0</td>\n",
       "<td>2504.0</td>\n",
       "<td>8.0</td>\n",
       "<td>0.0032</td>\n",
       "<td> (8.0/2512.0)</td></tr>\n",
       "<tr><td>1</td>\n",
       "<td>10.0</td>\n",
       "<td>619.0</td>\n",
       "<td>0.0159</td>\n",
       "<td> (10.0/629.0)</td></tr>\n",
       "<tr><td>Total</td>\n",
       "<td>2514.0</td>\n",
       "<td>627.0</td>\n",
       "<td>0.0057</td>\n",
       "<td> (18.0/3141.0)</td></tr></table></div>"
      ],
      "text/plain": [
       "       0     1    Error    Rate\n",
       "-----  ----  ---  -------  -------------\n",
       "0      2504  8    0.0032   (8.0/2512.0)\n",
       "1      10    619  0.0159   (10.0/629.0)\n",
       "Total  2514  627  0.0057   (18.0/3141.0)"
      ]
     },
     "metadata": {},
     "output_type": "display_data"
    },
    {
     "name": "stdout",
     "output_type": "stream",
     "text": [
      "Maximum Metrics: Maximum metrics at their respective thresholds\n",
      "\n"
     ]
    },
    {
     "data": {
      "text/html": [
       "<div style=\"overflow:auto\"><table style=\"width:50%\"><tr><td><b>metric</b></td>\n",
       "<td><b>threshold</b></td>\n",
       "<td><b>value</b></td>\n",
       "<td><b>idx</b></td></tr>\n",
       "<tr><td>max f1</td>\n",
       "<td>0.5073412</td>\n",
       "<td>0.9856688</td>\n",
       "<td>175.0</td></tr>\n",
       "<tr><td>max f2</td>\n",
       "<td>0.3970149</td>\n",
       "<td>0.9895669</td>\n",
       "<td>193.0</td></tr>\n",
       "<tr><td>max f0point5</td>\n",
       "<td>0.5073412</td>\n",
       "<td>0.9866114</td>\n",
       "<td>175.0</td></tr>\n",
       "<tr><td>max accuracy</td>\n",
       "<td>0.5073412</td>\n",
       "<td>0.9942693</td>\n",
       "<td>175.0</td></tr>\n",
       "<tr><td>max precision</td>\n",
       "<td>0.9999870</td>\n",
       "<td>1.0</td>\n",
       "<td>0.0</td></tr>\n",
       "<tr><td>max recall</td>\n",
       "<td>0.1943388</td>\n",
       "<td>1.0</td>\n",
       "<td>255.0</td></tr>\n",
       "<tr><td>max specificity</td>\n",
       "<td>0.9999870</td>\n",
       "<td>1.0</td>\n",
       "<td>0.0</td></tr>\n",
       "<tr><td>max absolute_mcc</td>\n",
       "<td>0.5073412</td>\n",
       "<td>0.9820894</td>\n",
       "<td>175.0</td></tr>\n",
       "<tr><td>max min_per_class_accuracy</td>\n",
       "<td>0.4323423</td>\n",
       "<td>0.9920509</td>\n",
       "<td>189.0</td></tr>\n",
       "<tr><td>max mean_per_class_accuracy</td>\n",
       "<td>0.3970149</td>\n",
       "<td>0.9934353</td>\n",
       "<td>193.0</td></tr></table></div>"
      ],
      "text/plain": [
       "metric                       threshold    value     idx\n",
       "---------------------------  -----------  --------  -----\n",
       "max f1                       0.507341     0.985669  175\n",
       "max f2                       0.397015     0.989567  193\n",
       "max f0point5                 0.507341     0.986611  175\n",
       "max accuracy                 0.507341     0.994269  175\n",
       "max precision                0.999987     1         0\n",
       "max recall                   0.194339     1         255\n",
       "max specificity              0.999987     1         0\n",
       "max absolute_mcc             0.507341     0.982089  175\n",
       "max min_per_class_accuracy   0.432342     0.992051  189\n",
       "max mean_per_class_accuracy  0.397015     0.993435  193"
      ]
     },
     "metadata": {},
     "output_type": "display_data"
    },
    {
     "name": "stdout",
     "output_type": "stream",
     "text": [
      "Gains/Lift Table: Avg response rate: 20.03 %, avg score: 20.35 %\n",
      "\n"
     ]
    },
    {
     "data": {
      "text/html": [
       "<div style=\"overflow:auto\"><table style=\"width:50%\"><tr><td><b></b></td>\n",
       "<td><b>group</b></td>\n",
       "<td><b>cumulative_data_fraction</b></td>\n",
       "<td><b>lower_threshold</b></td>\n",
       "<td><b>lift</b></td>\n",
       "<td><b>cumulative_lift</b></td>\n",
       "<td><b>response_rate</b></td>\n",
       "<td><b>score</b></td>\n",
       "<td><b>cumulative_response_rate</b></td>\n",
       "<td><b>cumulative_score</b></td>\n",
       "<td><b>capture_rate</b></td>\n",
       "<td><b>cumulative_capture_rate</b></td>\n",
       "<td><b>gain</b></td>\n",
       "<td><b>cumulative_gain</b></td></tr>\n",
       "<tr><td></td>\n",
       "<td>1</td>\n",
       "<td>0.0101878</td>\n",
       "<td>1.0000000</td>\n",
       "<td>4.9936407</td>\n",
       "<td>4.9936407</td>\n",
       "<td>1.0</td>\n",
       "<td>1.0</td>\n",
       "<td>1.0</td>\n",
       "<td>1.0</td>\n",
       "<td>0.0508744</td>\n",
       "<td>0.0508744</td>\n",
       "<td>399.3640700</td>\n",
       "<td>399.3640700</td></tr>\n",
       "<tr><td></td>\n",
       "<td>2</td>\n",
       "<td>0.0200573</td>\n",
       "<td>1.0000000</td>\n",
       "<td>4.9936407</td>\n",
       "<td>4.9936407</td>\n",
       "<td>1.0</td>\n",
       "<td>1.0000000</td>\n",
       "<td>1.0</td>\n",
       "<td>1.0000000</td>\n",
       "<td>0.0492846</td>\n",
       "<td>0.1001590</td>\n",
       "<td>399.3640700</td>\n",
       "<td>399.3640700</td></tr>\n",
       "<tr><td></td>\n",
       "<td>3</td>\n",
       "<td>0.0302451</td>\n",
       "<td>1.0000000</td>\n",
       "<td>4.9936407</td>\n",
       "<td>4.9936407</td>\n",
       "<td>1.0</td>\n",
       "<td>1.0000000</td>\n",
       "<td>1.0</td>\n",
       "<td>1.0000000</td>\n",
       "<td>0.0508744</td>\n",
       "<td>0.1510334</td>\n",
       "<td>399.3640700</td>\n",
       "<td>399.3640700</td></tr>\n",
       "<tr><td></td>\n",
       "<td>4</td>\n",
       "<td>0.0401146</td>\n",
       "<td>1.0000000</td>\n",
       "<td>4.9936407</td>\n",
       "<td>4.9936407</td>\n",
       "<td>1.0</td>\n",
       "<td>1.0000000</td>\n",
       "<td>1.0</td>\n",
       "<td>1.0000000</td>\n",
       "<td>0.0492846</td>\n",
       "<td>0.2003180</td>\n",
       "<td>399.3640700</td>\n",
       "<td>399.3640700</td></tr>\n",
       "<tr><td></td>\n",
       "<td>5</td>\n",
       "<td>0.0503025</td>\n",
       "<td>0.9999992</td>\n",
       "<td>4.9936407</td>\n",
       "<td>4.9936407</td>\n",
       "<td>1.0</td>\n",
       "<td>0.9999997</td>\n",
       "<td>1.0</td>\n",
       "<td>0.9999999</td>\n",
       "<td>0.0508744</td>\n",
       "<td>0.2511924</td>\n",
       "<td>399.3640700</td>\n",
       "<td>399.3640700</td></tr>\n",
       "<tr><td></td>\n",
       "<td>6</td>\n",
       "<td>0.1002865</td>\n",
       "<td>0.9984403</td>\n",
       "<td>4.9936407</td>\n",
       "<td>4.9936407</td>\n",
       "<td>1.0</td>\n",
       "<td>0.9997898</td>\n",
       "<td>1.0</td>\n",
       "<td>0.9998952</td>\n",
       "<td>0.2496025</td>\n",
       "<td>0.5007949</td>\n",
       "<td>399.3640700</td>\n",
       "<td>399.3640700</td></tr>\n",
       "<tr><td></td>\n",
       "<td>7</td>\n",
       "<td>0.1502706</td>\n",
       "<td>0.9493130</td>\n",
       "<td>4.9936407</td>\n",
       "<td>4.9936407</td>\n",
       "<td>1.0</td>\n",
       "<td>0.9845580</td>\n",
       "<td>1.0</td>\n",
       "<td>0.9947936</td>\n",
       "<td>0.2496025</td>\n",
       "<td>0.7503975</td>\n",
       "<td>399.3640700</td>\n",
       "<td>399.3640700</td></tr>\n",
       "<tr><td></td>\n",
       "<td>8</td>\n",
       "<td>0.2002547</td>\n",
       "<td>0.4914982</td>\n",
       "<td>4.6755744</td>\n",
       "<td>4.9142505</td>\n",
       "<td>0.9363057</td>\n",
       "<td>0.7637601</td>\n",
       "<td>0.9841017</td>\n",
       "<td>0.9371271</td>\n",
       "<td>0.2337043</td>\n",
       "<td>0.9841017</td>\n",
       "<td>367.5574413</td>\n",
       "<td>391.4250545</td></tr>\n",
       "<tr><td></td>\n",
       "<td>9</td>\n",
       "<td>0.3002229</td>\n",
       "<td>0.0184439</td>\n",
       "<td>0.1590331</td>\n",
       "<td>3.3308590</td>\n",
       "<td>0.0318471</td>\n",
       "<td>0.1535377</td>\n",
       "<td>0.6670201</td>\n",
       "<td>0.6762076</td>\n",
       "<td>0.0158983</td>\n",
       "<td>1.0</td>\n",
       "<td>-84.0966857</td>\n",
       "<td>233.0858961</td></tr>\n",
       "<tr><td></td>\n",
       "<td>10</td>\n",
       "<td>0.4001910</td>\n",
       "<td>0.0002510</td>\n",
       "<td>0.0</td>\n",
       "<td>2.4988067</td>\n",
       "<td>0.0</td>\n",
       "<td>0.0044582</td>\n",
       "<td>0.5003978</td>\n",
       "<td>0.5084038</td>\n",
       "<td>0.0</td>\n",
       "<td>1.0</td>\n",
       "<td>-100.0</td>\n",
       "<td>149.8806683</td></tr>\n",
       "<tr><td></td>\n",
       "<td>11</td>\n",
       "<td>0.5001592</td>\n",
       "<td>0.0000024</td>\n",
       "<td>0.0</td>\n",
       "<td>1.9993635</td>\n",
       "<td>0.0</td>\n",
       "<td>0.0000630</td>\n",
       "<td>0.4003819</td>\n",
       "<td>0.4068004</td>\n",
       "<td>0.0</td>\n",
       "<td>1.0</td>\n",
       "<td>-100.0</td>\n",
       "<td>99.9363463</td></tr>\n",
       "<tr><td></td>\n",
       "<td>12</td>\n",
       "<td>0.6001273</td>\n",
       "<td>0.0000000</td>\n",
       "<td>0.0</td>\n",
       "<td>1.6663130</td>\n",
       "<td>0.0</td>\n",
       "<td>0.0000004</td>\n",
       "<td>0.3336870</td>\n",
       "<td>0.3390364</td>\n",
       "<td>0.0</td>\n",
       "<td>1.0</td>\n",
       "<td>-100.0</td>\n",
       "<td>66.6312997</td></tr>\n",
       "<tr><td></td>\n",
       "<td>13</td>\n",
       "<td>0.7000955</td>\n",
       "<td>0.0000000</td>\n",
       "<td>0.0</td>\n",
       "<td>1.4283765</td>\n",
       "<td>0.0</td>\n",
       "<td>0.0000000</td>\n",
       "<td>0.2860391</td>\n",
       "<td>0.2906246</td>\n",
       "<td>0.0</td>\n",
       "<td>1.0</td>\n",
       "<td>-100.0</td>\n",
       "<td>42.8376535</td></tr>\n",
       "<tr><td></td>\n",
       "<td>14</td>\n",
       "<td>0.8000637</td>\n",
       "<td>0.0000000</td>\n",
       "<td>0.0</td>\n",
       "<td>1.2499005</td>\n",
       "<td>0.0</td>\n",
       "<td>0.0000000</td>\n",
       "<td>0.2502984</td>\n",
       "<td>0.2543110</td>\n",
       "<td>0.0</td>\n",
       "<td>1.0</td>\n",
       "<td>-100.0</td>\n",
       "<td>24.9900517</td></tr>\n",
       "<tr><td></td>\n",
       "<td>15</td>\n",
       "<td>0.9000318</td>\n",
       "<td>0.0000000</td>\n",
       "<td>0.0</td>\n",
       "<td>1.1110718</td>\n",
       "<td>0.0</td>\n",
       "<td>0.0000000</td>\n",
       "<td>0.2224973</td>\n",
       "<td>0.2260642</td>\n",
       "<td>0.0</td>\n",
       "<td>1.0</td>\n",
       "<td>-100.0</td>\n",
       "<td>11.1071808</td></tr>\n",
       "<tr><td></td>\n",
       "<td>16</td>\n",
       "<td>1.0</td>\n",
       "<td>0.0000000</td>\n",
       "<td>0.0</td>\n",
       "<td>1.0</td>\n",
       "<td>0.0</td>\n",
       "<td>0.0000000</td>\n",
       "<td>0.2002547</td>\n",
       "<td>0.2034650</td>\n",
       "<td>0.0</td>\n",
       "<td>1.0</td>\n",
       "<td>-100.0</td>\n",
       "<td>0.0</td></tr></table></div>"
      ],
      "text/plain": [
       "    group    cumulative_data_fraction    lower_threshold    lift      cumulative_lift    response_rate    score        cumulative_response_rate    cumulative_score    capture_rate    cumulative_capture_rate    gain      cumulative_gain\n",
       "--  -------  --------------------------  -----------------  --------  -----------------  ---------------  -----------  --------------------------  ------------------  --------------  -------------------------  --------  -----------------\n",
       "    1        0.0101878                   1                  4.99364   4.99364            1                1            1                           1                   0.0508744       0.0508744                  399.364   399.364\n",
       "    2        0.0200573                   1                  4.99364   4.99364            1                1            1                           1                   0.0492846       0.100159                   399.364   399.364\n",
       "    3        0.0302451                   1                  4.99364   4.99364            1                1            1                           1                   0.0508744       0.151033                   399.364   399.364\n",
       "    4        0.0401146                   1                  4.99364   4.99364            1                1            1                           1                   0.0492846       0.200318                   399.364   399.364\n",
       "    5        0.0503025                   0.999999           4.99364   4.99364            1                1            1                           1                   0.0508744       0.251192                   399.364   399.364\n",
       "    6        0.100287                    0.99844            4.99364   4.99364            1                0.99979      1                           0.999895            0.249603        0.500795                   399.364   399.364\n",
       "    7        0.150271                    0.949313           4.99364   4.99364            1                0.984558     1                           0.994794            0.249603        0.750397                   399.364   399.364\n",
       "    8        0.200255                    0.491498           4.67557   4.91425            0.936306         0.76376      0.984102                    0.937127            0.233704        0.984102                   367.557   391.425\n",
       "    9        0.300223                    0.0184439          0.159033  3.33086            0.0318471        0.153538     0.66702                     0.676208            0.0158983       1                          -84.0967  233.086\n",
       "    10       0.400191                    0.000251013        0         2.49881            0                0.0044582    0.500398                    0.508404            0               1                          -100      149.881\n",
       "    11       0.500159                    2.42568e-06        0         1.99936            0                6.30424e-05  0.400382                    0.4068              0               1                          -100      99.9363\n",
       "    12       0.600127                    4.42135e-09        0         1.66631            0                4.00319e-07  0.333687                    0.339036            0               1                          -100      66.6313\n",
       "    13       0.700096                    6.4e-12            0         1.42838            0                6.77953e-10  0.286039                    0.290625            0               1                          -100      42.8377\n",
       "    14       0.800064                    3.61484e-16        0         1.2499             0                8.09363e-13  0.250298                    0.254311            0               1                          -100      24.9901\n",
       "    15       0.900032                    4.67712e-23        0         1.11107            0                2.75616e-17  0.222497                    0.226064            0               1                          -100      11.1072\n",
       "    16       1                           1.09021e-144       0         1                  0                1.87619e-24  0.200255                    0.203465            0               1                          -100      0"
      ]
     },
     "metadata": {},
     "output_type": "display_data"
    },
    {
     "name": "stdout",
     "output_type": "stream",
     "text": [
      "\n",
      "\n"
     ]
    }
   ],
   "source": [
    "# Print model performance\n",
    "print(glm_perf1)\n",
    "print(glm_perf2)"
   ]
  },
  {
   "cell_type": "code",
   "execution_count": 17,
   "metadata": {},
   "outputs": [
    {
     "name": "stdout",
     "output_type": "stream",
     "text": [
      "0.9996310238676293\n",
      "0.9996810223486882\n"
     ]
    }
   ],
   "source": [
    "# Retreive test set AUC\n",
    "print(glm_perf1.auc())\n",
    "print(glm_perf2.auc())"
   ]
  },
  {
   "cell_type": "code",
   "execution_count": 18,
   "metadata": {},
   "outputs": [
    {
     "name": "stdout",
     "output_type": "stream",
     "text": [
      "0.9999582598942477\n",
      "0.9998349324067821\n"
     ]
    }
   ],
   "source": [
    "# Compare test AUC to the training AUC and validation AUC\n",
    "print(glm_fit2.auc(train=True))\n",
    "print(glm_fit2.auc(valid=True))"
   ]
  },
  {
   "cell_type": "markdown",
   "metadata": {},
   "source": [
    "### Random Forrest"
   ]
  },
  {
   "cell_type": "code",
   "execution_count": 19,
   "metadata": {},
   "outputs": [],
   "source": [
    "# Import H2O RF:\n",
    "from h2o.estimators.random_forest import H2ORandomForestEstimator"
   ]
  },
  {
   "cell_type": "code",
   "execution_count": 20,
   "metadata": {},
   "outputs": [],
   "source": [
    "# Initialize the RF estimator:\n",
    "\n",
    "rf_fit1 = H2ORandomForestEstimator(model_id='rf_fit1', seed=1)"
   ]
  },
  {
   "cell_type": "code",
   "execution_count": 21,
   "metadata": {},
   "outputs": [
    {
     "name": "stdout",
     "output_type": "stream",
     "text": [
      "drf Model Build progress: |█████████████████████████████████████████████████| 100%\n"
     ]
    }
   ],
   "source": [
    "rf_fit1.train(x=x, y=y, training_frame=train)"
   ]
  },
  {
   "cell_type": "code",
   "execution_count": 22,
   "metadata": {},
   "outputs": [
    {
     "name": "stdout",
     "output_type": "stream",
     "text": [
      "drf Model Build progress: |███████████████████████████████████████████████| 100%\n"
     ]
    }
   ],
   "source": [
    "rf_fit2 = H2ORandomForestEstimator(model_id='rf_fit2', ntrees=100, seed=1)\n",
    "rf_fit2.train(x=x, y=y, training_frame=train)"
   ]
  },
  {
   "cell_type": "code",
   "execution_count": 23,
   "metadata": {},
   "outputs": [],
   "source": [
    "rf_perf1 = rf_fit1.model_performance(test)\n",
    "rf_perf2 = rf_fit2.model_performance(test)"
   ]
  },
  {
   "cell_type": "code",
   "execution_count": 24,
   "metadata": {},
   "outputs": [
    {
     "name": "stdout",
     "output_type": "stream",
     "text": [
      "0.9839413106437274\n",
      "0.9872896266442539\n"
     ]
    }
   ],
   "source": [
    "# Retreive test set AUC\n",
    "print(rf_perf1.auc())\n",
    "print(rf_perf2.auc())"
   ]
  },
  {
   "cell_type": "code",
   "execution_count": 25,
   "metadata": {},
   "outputs": [
    {
     "name": "stdout",
     "output_type": "stream",
     "text": [
      "drf Model Build progress: |███████████████████████████████████████████████| 100%\n"
     ]
    }
   ],
   "source": [
    "#Cross Validate Performance\n",
    "rf_fit3 = H2ORandomForestEstimator(model_id='rf_fit3', seed=1, nfolds=5)\n",
    "rf_fit3.train(x=x, y=y, training_frame=data)"
   ]
  },
  {
   "cell_type": "code",
   "execution_count": 26,
   "metadata": {},
   "outputs": [
    {
     "name": "stdout",
     "output_type": "stream",
     "text": [
      "0.9870361536495137\n"
     ]
    }
   ],
   "source": [
    "print(rf_fit3.auc(xval=True))"
   ]
  },
  {
   "cell_type": "markdown",
   "metadata": {},
   "source": [
    "### Gradient Boosting"
   ]
  },
  {
   "cell_type": "code",
   "execution_count": 27,
   "metadata": {},
   "outputs": [],
   "source": [
    "# Import H2O GBM:\n",
    "from h2o.estimators.gbm import H2OGradientBoostingEstimator"
   ]
  },
  {
   "cell_type": "code",
   "execution_count": 28,
   "metadata": {},
   "outputs": [],
   "source": [
    "# GBM hyperparameters\n",
    "gbm_params1 = {'learn_rate': [0.01, 0.1], \n",
    "                'max_depth': [3, 5, 9],\n",
    "                'sample_rate': [0.8, 1.0],\n",
    "                'col_sample_rate': [0.2, 0.5, 1.0]}"
   ]
  },
  {
   "cell_type": "code",
   "execution_count": 29,
   "metadata": {},
   "outputs": [
    {
     "name": "stdout",
     "output_type": "stream",
     "text": [
      "gbm Grid Build progress: |████████████████████████████████████████████████| 100%\n"
     ]
    }
   ],
   "source": [
    "# Initialize and train the GBM estimator:\n",
    "gbm_grid1 = H2OGridSearch(model=H2OGradientBoostingEstimator,grid_id='gbm_grid1', hyper_params=gbm_params1)\n",
    "gbm_grid1.train(x=x, y=y, training_frame=train, validation_frame=valid, ntrees=100, seed=1)"
   ]
  },
  {
   "cell_type": "code",
   "execution_count": 30,
   "metadata": {},
   "outputs": [
    {
     "name": "stdout",
     "output_type": "stream",
     "text": [
      "gbm Model Build progress: |███████████████████████████████████████████████| 100%\n"
     ]
    }
   ],
   "source": [
    "gbm_fit2 = H2OGradientBoostingEstimator(model_id='gbm_fit2', ntrees=500, seed=1)\n",
    "gbm_fit2.train(x=x, y=y, training_frame=train)"
   ]
  },
  {
   "cell_type": "code",
   "execution_count": 31,
   "metadata": {},
   "outputs": [
    {
     "name": "stdout",
     "output_type": "stream",
     "text": [
      "gbm Model Build progress: |███████████████████████████████████████████████| 100%\n"
     ]
    }
   ],
   "source": [
    "# Now let's use early stopping to find optimal ntrees\n",
    "\n",
    "gbm_fit3 = H2OGradientBoostingEstimator(model_id='gbm_fit3', \n",
    "                                        ntrees=500, \n",
    "                                        score_tree_interval=5,     #used for early stopping\n",
    "                                        stopping_rounds=3,         #used for early stopping\n",
    "                                        stopping_metric='AUC',     #used for early stopping\n",
    "                                        stopping_tolerance=0.0005, #used for early stopping\n",
    "                                        seed=1)\n",
    "\n",
    "# The use of a validation_frame is recommended with using early stopping\n",
    "gbm_fit3.train(x=x, y=y, training_frame=train, validation_frame=valid)"
   ]
  },
  {
   "cell_type": "code",
   "execution_count": 32,
   "metadata": {},
   "outputs": [],
   "source": [
    "gbm_gridperf = gbm_grid1.get_grid(sort_by='auc', decreasing=True)\n",
    "# Grab the model_id for the top GBM model, chosen by validation AUC\n",
    "best_gbm_model = gbm_gridperf.models[0]\n",
    "\n",
    "gbm_perf1 = best_gbm_model.model_performance(test)\n",
    "gbm_perf2 = gbm_fit2.model_performance(test)\n",
    "gbm_perf3 = gbm_fit3.model_performance(test)"
   ]
  },
  {
   "cell_type": "code",
   "execution_count": 33,
   "metadata": {},
   "outputs": [
    {
     "name": "stdout",
     "output_type": "stream",
     "text": [
      "0.9990171184672871\n",
      "0.9983487843407289\n",
      "0.9985089060585501\n"
     ]
    }
   ],
   "source": [
    "# Retreive test set AUC\n",
    "print(gbm_perf1.auc())\n",
    "print(gbm_perf2.auc())\n",
    "print(gbm_perf3.auc())"
   ]
  },
  {
   "cell_type": "markdown",
   "metadata": {},
   "source": [
    "## Deep Learning"
   ]
  },
  {
   "cell_type": "code",
   "execution_count": 34,
   "metadata": {},
   "outputs": [],
   "source": [
    "# Import H2O DL:\n",
    "from h2o.estimators.deeplearning import H2ODeepLearningEstimator"
   ]
  },
  {
   "cell_type": "code",
   "execution_count": 35,
   "metadata": {},
   "outputs": [
    {
     "name": "stdout",
     "output_type": "stream",
     "text": [
      "deeplearning Model Build progress: |██████████████████████████████████████| 100%\n"
     ]
    }
   ],
   "source": [
    "# Initialize and train the DL estimator:\n",
    "\n",
    "dl_fit1 = H2ODeepLearningEstimator(model_id='dl_fit1', seed=1)\n",
    "dl_fit1.train(x=x, y=y, training_frame=train)"
   ]
  },
  {
   "cell_type": "code",
   "execution_count": 36,
   "metadata": {},
   "outputs": [
    {
     "name": "stdout",
     "output_type": "stream",
     "text": [
      "deeplearning Model Build progress: |██████████████████████████████████████| 100%\n"
     ]
    }
   ],
   "source": [
    "dl_fit2 = H2ODeepLearningEstimator(model_id='dl_fit2', \n",
    "                                   epochs=20, \n",
    "                                   hidden=[10,10], \n",
    "                                   stopping_rounds=0,  #disable early stopping\n",
    "                                   seed=1)\n",
    "dl_fit2.train(x=x, y=y, training_frame=train)"
   ]
  },
  {
   "cell_type": "code",
   "execution_count": 37,
   "metadata": {},
   "outputs": [
    {
     "name": "stdout",
     "output_type": "stream",
     "text": [
      "deeplearning Model Build progress: |██████████████████████████████████████| 100%\n"
     ]
    }
   ],
   "source": [
    "dl_fit3 = H2ODeepLearningEstimator(model_id='dl_fit3', \n",
    "                                   epochs=20, \n",
    "                                   hidden=[10,10],\n",
    "                                   score_interval=1,          #used for early stopping\n",
    "                                   stopping_rounds=3,         #used for early stopping\n",
    "                                   stopping_metric='AUC',     #used for early stopping\n",
    "                                   stopping_tolerance=0.0005, #used for early stopping\n",
    "                                   seed=1)\n",
    "dl_fit3.train(x=x, y=y, training_frame=train, validation_frame=valid)"
   ]
  },
  {
   "cell_type": "code",
   "execution_count": 41,
   "metadata": {},
   "outputs": [],
   "source": [
    "# Import H2O DL:\n",
    "from h2o.estimators.deeplearning import H2ODeepLearningEstimator"
   ]
  },
  {
   "cell_type": "code",
   "execution_count": 42,
   "metadata": {},
   "outputs": [],
   "source": [
    "# DL hyperparameters\n",
    "activation_opt = [\"Rectifier\", \"RectifierWithDropout\", \"Maxout\", \"MaxoutWithDropout\"]\n",
    "l1_opt = [0, 0.00001, 0.0001, 0.001, 0.01, 0.1]\n",
    "l2_opt = [0, 0.00001, 0.0001, 0.001, 0.01, 0.1]\n",
    "dl_params = {'activation': activation_opt, 'l1': l1_opt, 'l2': l2_opt}\n",
    "\n",
    "# Search criteria\n",
    "search_criteria = {'strategy': 'RandomDiscrete', 'max_runtime_secs': 120, 'seed':1}"
   ]
  },
  {
   "cell_type": "code",
   "execution_count": 43,
   "metadata": {},
   "outputs": [],
   "source": [
    "#dl_grid = H2OGridSearch(model=H2ODeepLearningEstimator,\n",
    "#                        grid_id='dl_grid1',\n",
    "#                        hyper_params=dl_params,\n",
    "#                        search_criteria=search_criteria)\n",
    "\n",
    "#dl_grid.train(x=x, y=y,\n",
    "#              training_frame=train, \n",
    "#              validation_frame=valid, \n",
    "#              hidden=[10,10],\n",
    "#              hyper_params=dl_params,\n",
    "#              search_criteria=search_criteria)\n",
    "\n",
    "#dl_gridperf = dl_grid.get_grid(sort_by='auc', decreasing=True)"
   ]
  },
  {
   "cell_type": "code",
   "execution_count": 44,
   "metadata": {},
   "outputs": [],
   "source": [
    "# Grab the model_id for the top GBM model, chosen by validation AUC\n",
    "#best_dl_model = dl_gridperf.models[0]\n",
    "\n",
    "# Now let's evaluate the model performance on a test set\n",
    "# so we get an honest estimate of top model performance\n",
    "\n",
    "#dl_perf = best_gbm_model.model_performance(test)\n",
    "#print dl_perf.auc()"
   ]
  },
  {
   "cell_type": "code",
   "execution_count": 45,
   "metadata": {},
   "outputs": [],
   "source": [
    "dl_perf1 = dl_fit1.model_performance(test)\n",
    "dl_perf2 = dl_fit2.model_performance(test)\n",
    "dl_perf3 = dl_fit3.model_performance(test)"
   ]
  },
  {
   "cell_type": "code",
   "execution_count": 46,
   "metadata": {},
   "outputs": [
    {
     "name": "stdout",
     "output_type": "stream",
     "text": [
      "0.9986994066003058\n",
      "0.9991022424635201\n",
      "0.998821554788209\n"
     ]
    }
   ],
   "source": [
    "# Retreive test set AUC\n",
    "print(dl_perf1.auc())\n",
    "print(dl_perf2.auc())\n",
    "print(dl_perf3.auc())"
   ]
  },
  {
   "cell_type": "code",
   "execution_count": 49,
   "metadata": {},
   "outputs": [],
   "source": [
    "# Grab the model_id for the top GBM model, chosen by validation AUC\n",
    "#best_dl_model = dl_gridperf.models[0]\n",
    "\n",
    "# Now let's evaluate the model performance on a test set\n",
    "# so we get an honest estimate of top model performance\n",
    "\n",
    "#dl_perf = best_gbm_model.model_performance(test)\n",
    "#print(dl_perf.auc())"
   ]
  },
  {
   "cell_type": "code",
   "execution_count": null,
   "metadata": {},
   "outputs": [],
   "source": []
  }
 ],
 "metadata": {
  "kernelspec": {
   "display_name": "Python 3",
   "language": "python",
   "name": "python3"
  },
  "language_info": {
   "codemirror_mode": {
    "name": "ipython",
    "version": 3
   },
   "file_extension": ".py",
   "mimetype": "text/x-python",
   "name": "python",
   "nbconvert_exporter": "python",
   "pygments_lexer": "ipython3",
   "version": "3.6.7"
  }
 },
 "nbformat": 4,
 "nbformat_minor": 2
}
