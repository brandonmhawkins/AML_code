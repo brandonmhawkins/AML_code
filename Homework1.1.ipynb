{
 "cells": [
  {
   "cell_type": "markdown",
   "metadata": {},
   "source": [
    "# Homework 1\n",
    "## Section 1: Liver Data\n",
    "\n",
    "We are interested in finding a variable that can help predict possible liver patients at different ages. In many countries, it is very expensive to perform medical tests, especially where blood or other biohazardous materials are present. We will use this patient data that contains the levels of various proteins in the blood in order to see if a certain protein is more effective at determining if a patient has liver disease, in order to help cut costs in other countries where hepatitis is rampant. \n",
    "\n",
    "We will start by importing the necessary Python modules."
   ]
  },
  {
   "cell_type": "code",
   "execution_count": 1,
   "metadata": {},
   "outputs": [],
   "source": [
    "#Import the basic packages\n",
    "import pandas as pd\n",
    "import matplotlib.pyplot as plt\n",
    "%matplotlib inline\n",
    "import collections\n",
    "import sqlite3\n",
    "import seaborn as sns\n",
    "import numpy as np\n",
    "from scipy import stats\n",
    "import json\n",
    "from datetime import timedelta  \n",
    "import csv\n",
    "import time\n",
    "from pandas.io.json import json_normalize #package for flattening json in pandas df"
   ]
  },
  {
   "cell_type": "markdown",
   "metadata": {},
   "source": [
    "We have found a dataset in sql form and will need to import it. Luckily it is only one table so no joins will be necessary."
   ]
  },
  {
   "cell_type": "code",
   "execution_count": 2,
   "metadata": {},
   "outputs": [],
   "source": [
    "#Import the SQL Database via Sqlite3\n",
    "sql_liver = sqlite3.connect(r\"C:\\Users\\zgeorge\\Dropbox (CMN Hospitals)\\George\\School\\Fall 2018\\Applied Machine Learning\\practice_python\\Homework 1\\LiverData.db\")"
   ]
  },
  {
   "cell_type": "code",
   "execution_count": 3,
   "metadata": {},
   "outputs": [
    {
     "data": {
      "text/html": [
       "<div>\n",
       "<style scoped>\n",
       "    .dataframe tbody tr th:only-of-type {\n",
       "        vertical-align: middle;\n",
       "    }\n",
       "\n",
       "    .dataframe tbody tr th {\n",
       "        vertical-align: top;\n",
       "    }\n",
       "\n",
       "    .dataframe thead th {\n",
       "        text-align: right;\n",
       "    }\n",
       "</style>\n",
       "<table border=\"1\" class=\"dataframe\">\n",
       "  <thead>\n",
       "    <tr style=\"text-align: right;\">\n",
       "      <th></th>\n",
       "      <th>Age</th>\n",
       "      <th>Gender</th>\n",
       "      <th>Total_Bilirubin</th>\n",
       "      <th>Direct_Bilirubin</th>\n",
       "      <th>Alkaline_Phosphotase</th>\n",
       "      <th>Alamine_Aminotransferase</th>\n",
       "      <th>Aspartate_Aminotransferase</th>\n",
       "      <th>Total_Protiens</th>\n",
       "      <th>Albumin</th>\n",
       "      <th>Albumin_and_Globulin_Ratio</th>\n",
       "      <th>Dataset</th>\n",
       "    </tr>\n",
       "  </thead>\n",
       "  <tbody>\n",
       "    <tr>\n",
       "      <th>0</th>\n",
       "      <td>65</td>\n",
       "      <td>Female</td>\n",
       "      <td>0.7</td>\n",
       "      <td>0.1</td>\n",
       "      <td>187</td>\n",
       "      <td>16</td>\n",
       "      <td>18</td>\n",
       "      <td>6.8</td>\n",
       "      <td>3.3</td>\n",
       "      <td>0.9</td>\n",
       "      <td>1</td>\n",
       "    </tr>\n",
       "    <tr>\n",
       "      <th>1</th>\n",
       "      <td>62</td>\n",
       "      <td>Male</td>\n",
       "      <td>10.9</td>\n",
       "      <td>5.5</td>\n",
       "      <td>699</td>\n",
       "      <td>64</td>\n",
       "      <td>100</td>\n",
       "      <td>7.5</td>\n",
       "      <td>3.2</td>\n",
       "      <td>0.74</td>\n",
       "      <td>1</td>\n",
       "    </tr>\n",
       "    <tr>\n",
       "      <th>2</th>\n",
       "      <td>62</td>\n",
       "      <td>Male</td>\n",
       "      <td>7.3</td>\n",
       "      <td>4.1</td>\n",
       "      <td>490</td>\n",
       "      <td>60</td>\n",
       "      <td>68</td>\n",
       "      <td>7.0</td>\n",
       "      <td>3.3</td>\n",
       "      <td>0.89</td>\n",
       "      <td>1</td>\n",
       "    </tr>\n",
       "    <tr>\n",
       "      <th>3</th>\n",
       "      <td>58</td>\n",
       "      <td>Male</td>\n",
       "      <td>1.0</td>\n",
       "      <td>0.4</td>\n",
       "      <td>182</td>\n",
       "      <td>14</td>\n",
       "      <td>20</td>\n",
       "      <td>6.8</td>\n",
       "      <td>3.4</td>\n",
       "      <td>1</td>\n",
       "      <td>1</td>\n",
       "    </tr>\n",
       "    <tr>\n",
       "      <th>4</th>\n",
       "      <td>72</td>\n",
       "      <td>Male</td>\n",
       "      <td>3.9</td>\n",
       "      <td>2.0</td>\n",
       "      <td>195</td>\n",
       "      <td>27</td>\n",
       "      <td>59</td>\n",
       "      <td>7.3</td>\n",
       "      <td>2.4</td>\n",
       "      <td>0.4</td>\n",
       "      <td>1</td>\n",
       "    </tr>\n",
       "  </tbody>\n",
       "</table>\n",
       "</div>"
      ],
      "text/plain": [
       "   Age  Gender  Total_Bilirubin  Direct_Bilirubin  Alkaline_Phosphotase  \\\n",
       "0   65  Female              0.7               0.1                   187   \n",
       "1   62    Male             10.9               5.5                   699   \n",
       "2   62    Male              7.3               4.1                   490   \n",
       "3   58    Male              1.0               0.4                   182   \n",
       "4   72    Male              3.9               2.0                   195   \n",
       "\n",
       "   Alamine_Aminotransferase  Aspartate_Aminotransferase  Total_Protiens  \\\n",
       "0                        16                          18             6.8   \n",
       "1                        64                         100             7.5   \n",
       "2                        60                          68             7.0   \n",
       "3                        14                          20             6.8   \n",
       "4                        27                          59             7.3   \n",
       "\n",
       "   Albumin Albumin_and_Globulin_Ratio  Dataset  \n",
       "0      3.3                        0.9        1  \n",
       "1      3.2                       0.74        1  \n",
       "2      3.3                       0.89        1  \n",
       "3      3.4                          1        1  \n",
       "4      2.4                        0.4        1  "
      ]
     },
     "execution_count": 3,
     "metadata": {},
     "output_type": "execute_result"
    }
   ],
   "source": [
    "#Read the imported data into a Dataframe\n",
    "liver_df = pd.read_sql_query(\"select * from indian_liver_patient;\", con=sql_liver)\n",
    "#View first 5 rows, along with column headers and index\n",
    "liver_df.head(5)"
   ]
  },
  {
   "cell_type": "markdown",
   "metadata": {},
   "source": [
    "We have several variables that are found using blood tests. We also have the age, gender, and what type of patient the data comes from. Lets make sure that the type of patient is legible for future analysis."
   ]
  },
  {
   "cell_type": "code",
   "execution_count": 4,
   "metadata": {},
   "outputs": [
    {
     "data": {
      "text/html": [
       "<div>\n",
       "<style scoped>\n",
       "    .dataframe tbody tr th:only-of-type {\n",
       "        vertical-align: middle;\n",
       "    }\n",
       "\n",
       "    .dataframe tbody tr th {\n",
       "        vertical-align: top;\n",
       "    }\n",
       "\n",
       "    .dataframe thead th {\n",
       "        text-align: right;\n",
       "    }\n",
       "</style>\n",
       "<table border=\"1\" class=\"dataframe\">\n",
       "  <thead>\n",
       "    <tr style=\"text-align: right;\">\n",
       "      <th></th>\n",
       "      <th>Age</th>\n",
       "      <th>Gender</th>\n",
       "      <th>Total_Bilirubin</th>\n",
       "      <th>Direct_Bilirubin</th>\n",
       "      <th>Alkaline_Phosphotase</th>\n",
       "      <th>Alamine_Aminotransferase</th>\n",
       "      <th>Aspartate_Aminotransferase</th>\n",
       "      <th>Total_Protiens</th>\n",
       "      <th>Albumin</th>\n",
       "      <th>Albumin_and_Globulin_Ratio</th>\n",
       "      <th>Dataset</th>\n",
       "    </tr>\n",
       "  </thead>\n",
       "  <tbody>\n",
       "    <tr>\n",
       "      <th>0</th>\n",
       "      <td>65</td>\n",
       "      <td>Female</td>\n",
       "      <td>0.7</td>\n",
       "      <td>0.1</td>\n",
       "      <td>187</td>\n",
       "      <td>16</td>\n",
       "      <td>18</td>\n",
       "      <td>6.8</td>\n",
       "      <td>3.3</td>\n",
       "      <td>0.9</td>\n",
       "      <td>Liver Patient</td>\n",
       "    </tr>\n",
       "    <tr>\n",
       "      <th>1</th>\n",
       "      <td>62</td>\n",
       "      <td>Male</td>\n",
       "      <td>10.9</td>\n",
       "      <td>5.5</td>\n",
       "      <td>699</td>\n",
       "      <td>64</td>\n",
       "      <td>100</td>\n",
       "      <td>7.5</td>\n",
       "      <td>3.2</td>\n",
       "      <td>0.74</td>\n",
       "      <td>Liver Patient</td>\n",
       "    </tr>\n",
       "    <tr>\n",
       "      <th>2</th>\n",
       "      <td>62</td>\n",
       "      <td>Male</td>\n",
       "      <td>7.3</td>\n",
       "      <td>4.1</td>\n",
       "      <td>490</td>\n",
       "      <td>60</td>\n",
       "      <td>68</td>\n",
       "      <td>7.0</td>\n",
       "      <td>3.3</td>\n",
       "      <td>0.89</td>\n",
       "      <td>Liver Patient</td>\n",
       "    </tr>\n",
       "    <tr>\n",
       "      <th>3</th>\n",
       "      <td>58</td>\n",
       "      <td>Male</td>\n",
       "      <td>1.0</td>\n",
       "      <td>0.4</td>\n",
       "      <td>182</td>\n",
       "      <td>14</td>\n",
       "      <td>20</td>\n",
       "      <td>6.8</td>\n",
       "      <td>3.4</td>\n",
       "      <td>1</td>\n",
       "      <td>Liver Patient</td>\n",
       "    </tr>\n",
       "    <tr>\n",
       "      <th>4</th>\n",
       "      <td>72</td>\n",
       "      <td>Male</td>\n",
       "      <td>3.9</td>\n",
       "      <td>2.0</td>\n",
       "      <td>195</td>\n",
       "      <td>27</td>\n",
       "      <td>59</td>\n",
       "      <td>7.3</td>\n",
       "      <td>2.4</td>\n",
       "      <td>0.4</td>\n",
       "      <td>Liver Patient</td>\n",
       "    </tr>\n",
       "  </tbody>\n",
       "</table>\n",
       "</div>"
      ],
      "text/plain": [
       "   Age  Gender  Total_Bilirubin  Direct_Bilirubin  Alkaline_Phosphotase  \\\n",
       "0   65  Female              0.7               0.1                   187   \n",
       "1   62    Male             10.9               5.5                   699   \n",
       "2   62    Male              7.3               4.1                   490   \n",
       "3   58    Male              1.0               0.4                   182   \n",
       "4   72    Male              3.9               2.0                   195   \n",
       "\n",
       "   Alamine_Aminotransferase  Aspartate_Aminotransferase  Total_Protiens  \\\n",
       "0                        16                          18             6.8   \n",
       "1                        64                         100             7.5   \n",
       "2                        60                          68             7.0   \n",
       "3                        14                          20             6.8   \n",
       "4                        27                          59             7.3   \n",
       "\n",
       "   Albumin Albumin_and_Globulin_Ratio        Dataset  \n",
       "0      3.3                        0.9  Liver Patient  \n",
       "1      3.2                       0.74  Liver Patient  \n",
       "2      3.3                       0.89  Liver Patient  \n",
       "3      3.4                          1  Liver Patient  \n",
       "4      2.4                        0.4  Liver Patient  "
      ]
     },
     "execution_count": 4,
     "metadata": {},
     "output_type": "execute_result"
    }
   ],
   "source": [
    "#Change the Dataset code from 1 to Liver Patient and from 2 to Non-Liver Patient\n",
    "liver_df['Dataset'] = liver_df['Dataset'].map({1 : 'Liver Patient', 2 : 'Non-Liver Patient'})\n",
    "#View first 5 rows, along with column headers and index\n",
    "liver_df.head(5)"
   ]
  },
  {
   "cell_type": "markdown",
   "metadata": {},
   "source": [
    "Before we clean the data, it is important to define what type of data each variable should be. We will start by checking what they have been read in as."
   ]
  },
  {
   "cell_type": "code",
   "execution_count": 5,
   "metadata": {},
   "outputs": [
    {
     "name": "stdout",
     "output_type": "stream",
     "text": [
      "<class 'pandas.core.frame.DataFrame'>\n",
      "RangeIndex: 583 entries, 0 to 582\n",
      "Data columns (total 11 columns):\n",
      "Age                           583 non-null int64\n",
      "Gender                        583 non-null object\n",
      "Total_Bilirubin               583 non-null float64\n",
      "Direct_Bilirubin              583 non-null float64\n",
      "Alkaline_Phosphotase          583 non-null int64\n",
      "Alamine_Aminotransferase      583 non-null int64\n",
      "Aspartate_Aminotransferase    583 non-null int64\n",
      "Total_Protiens                583 non-null float64\n",
      "Albumin                       583 non-null float64\n",
      "Albumin_and_Globulin_Ratio    583 non-null object\n",
      "Dataset                       583 non-null object\n",
      "dtypes: float64(4), int64(4), object(3)\n",
      "memory usage: 50.2+ KB\n"
     ]
    }
   ],
   "source": [
    "#View what types of data each column contains\n",
    "liver_df.info()"
   ]
  },
  {
   "cell_type": "markdown",
   "metadata": {},
   "source": [
    "Its clear that not all of them are correct and that the column headings are very long. That will affect our ability to plot them. Let's fix that!"
   ]
  },
  {
   "cell_type": "code",
   "execution_count": 6,
   "metadata": {},
   "outputs": [],
   "source": [
    "#Change the necessary columns to category and numeric\n",
    "liver_df[['Gender','Dataset']] = liver_df[['Gender','Dataset']].astype('category')\n",
    "liver_df[['Albumin_and_Globulin_Ratio']] = liver_df[['Albumin_and_Globulin_Ratio']].apply(pd.to_numeric)\n",
    "#Renaming columns to shorten them for better fit on plots\n",
    "liver_df.rename(columns={'Alkaline_Phosphotase':'Alkaline_Phosph','Alamine_Aminotransferase':'Alamine_Aminotrans','Aspartate_Aminotransferase':'Aspartate_Aminotrans','Albumin_and_Globulin_Ratio':'Albumin:Globulin'}, inplace=True)"
   ]
  },
  {
   "cell_type": "markdown",
   "metadata": {},
   "source": [
    "We now want to ensure that any outliers are removed. Even in the case of accurately collected data, the outliers could make our model incorrect. So we are going to visually display our data and see what kind of outliers we have."
   ]
  },
  {
   "cell_type": "code",
   "execution_count": 7,
   "metadata": {},
   "outputs": [
    {
     "data": {
      "text/plain": [
       "Text(0.5,1,'Search for Outliers')"
      ]
     },
     "execution_count": 7,
     "metadata": {},
     "output_type": "execute_result"
    },
    {
     "data": {
      "image/png": "[encoded data removed]",
      "text/plain": [
       "<Figure size 1368x432 with 1 Axes>"
      ]
     },
     "metadata": {},
     "output_type": "display_data"
    }
   ],
   "source": [
    "#Create box and whisker plot to see outliers; set plot size and title\n",
    "plt.figure(figsize=(19,6))\n",
    "bboxs = sns.boxplot(data=liver_df)\n",
    "plt.title('Search for Outliers',fontsize=16)"
   ]
  },
  {
   "cell_type": "markdown",
   "metadata": {},
   "source": [
    "Its clear that we have far too many outliers, however, if we were to remove anything outside of three times the standard devation, we would have very little data left, and that would also be problematic as unhealthy liver patients should have levels outside the normal, so we will be removing anything outside of the 99th percentile in the most variable two columns, just to clean up the data a bit and then redisplay our box and whisker plot."
   ]
  },
  {
   "cell_type": "code",
   "execution_count": 8,
   "metadata": {},
   "outputs": [
    {
     "data": {
      "text/plain": [
       "Text(0.5,1,'Search for Outliers')"
      ]
     },
     "execution_count": 8,
     "metadata": {},
     "output_type": "execute_result"
    },
    {
     "data": {
      "image/png": "[encoded data removed]",
      "text/plain": [
       "<Figure size 1368x432 with 1 Axes>"
      ]
     },
     "metadata": {},
     "output_type": "display_data"
    }
   ],
   "source": [
    "#Remove anything outside the 99th percentile for Aspartate Aminotransferase and Alkaline Phosphatase\n",
    "qAsp = liver_df['Aspartate_Aminotrans'].quantile(0.99)\n",
    "liver_df = liver_df[liver_df['Aspartate_Aminotrans'] < qAsp]\n",
    "qAlk = liver_df['Alkaline_Phosph'].quantile(0.99)\n",
    "liver_df = liver_df[liver_df['Alkaline_Phosph'] < qAsp]\n",
    "#Display the same Plot as before with the outliers removed\n",
    "plt.figure(figsize=(19,6))\n",
    "bboxs = sns.boxplot(data=liver_df)\n",
    "plt.title('Search for Outliers',fontsize=16)"
   ]
  },
  {
   "cell_type": "markdown",
   "metadata": {},
   "source": [
    "That looks much better now! Not perfect, but that would only be the case with healthy patients, hopefully! Next we want describe what the data looks like."
   ]
  },
  {
   "cell_type": "code",
   "execution_count": 9,
   "metadata": {},
   "outputs": [
    {
     "data": {
      "text/html": [
       "<div>\n",
       "<style scoped>\n",
       "    .dataframe tbody tr th:only-of-type {\n",
       "        vertical-align: middle;\n",
       "    }\n",
       "\n",
       "    .dataframe tbody tr th {\n",
       "        vertical-align: top;\n",
       "    }\n",
       "\n",
       "    .dataframe thead th {\n",
       "        text-align: right;\n",
       "    }\n",
       "</style>\n",
       "<table border=\"1\" class=\"dataframe\">\n",
       "  <thead>\n",
       "    <tr style=\"text-align: right;\">\n",
       "      <th></th>\n",
       "      <th>Age</th>\n",
       "      <th>Total_Bilirubin</th>\n",
       "      <th>Direct_Bilirubin</th>\n",
       "      <th>Alkaline_Phosph</th>\n",
       "      <th>Alamine_Aminotrans</th>\n",
       "      <th>Aspartate_Aminotrans</th>\n",
       "      <th>Total_Protiens</th>\n",
       "      <th>Albumin</th>\n",
       "      <th>Albumin:Globulin</th>\n",
       "    </tr>\n",
       "  </thead>\n",
       "  <tbody>\n",
       "    <tr>\n",
       "      <th>count</th>\n",
       "      <td>564.000000</td>\n",
       "      <td>564.000000</td>\n",
       "      <td>564.000000</td>\n",
       "      <td>564.000000</td>\n",
       "      <td>564.000000</td>\n",
       "      <td>564.000000</td>\n",
       "      <td>564.000000</td>\n",
       "      <td>564.000000</td>\n",
       "      <td>560.000000</td>\n",
       "    </tr>\n",
       "    <tr>\n",
       "      <th>mean</th>\n",
       "      <td>44.574468</td>\n",
       "      <td>3.099291</td>\n",
       "      <td>1.386879</td>\n",
       "      <td>259.971631</td>\n",
       "      <td>67.815603</td>\n",
       "      <td>87.585106</td>\n",
       "      <td>6.495390</td>\n",
       "      <td>3.156738</td>\n",
       "      <td>0.953036</td>\n",
       "    </tr>\n",
       "    <tr>\n",
       "      <th>std</th>\n",
       "      <td>16.141463</td>\n",
       "      <td>6.048246</td>\n",
       "      <td>2.710752</td>\n",
       "      <td>147.985535</td>\n",
       "      <td>132.601279</td>\n",
       "      <td>139.286056</td>\n",
       "      <td>1.089664</td>\n",
       "      <td>0.796199</td>\n",
       "      <td>0.319971</td>\n",
       "    </tr>\n",
       "    <tr>\n",
       "      <th>min</th>\n",
       "      <td>4.000000</td>\n",
       "      <td>0.400000</td>\n",
       "      <td>0.100000</td>\n",
       "      <td>63.000000</td>\n",
       "      <td>10.000000</td>\n",
       "      <td>10.000000</td>\n",
       "      <td>2.700000</td>\n",
       "      <td>0.900000</td>\n",
       "      <td>0.300000</td>\n",
       "    </tr>\n",
       "    <tr>\n",
       "      <th>25%</th>\n",
       "      <td>33.000000</td>\n",
       "      <td>0.800000</td>\n",
       "      <td>0.200000</td>\n",
       "      <td>175.000000</td>\n",
       "      <td>23.000000</td>\n",
       "      <td>25.000000</td>\n",
       "      <td>5.800000</td>\n",
       "      <td>2.600000</td>\n",
       "      <td>0.700000</td>\n",
       "    </tr>\n",
       "    <tr>\n",
       "      <th>50%</th>\n",
       "      <td>45.000000</td>\n",
       "      <td>1.000000</td>\n",
       "      <td>0.300000</td>\n",
       "      <td>206.000000</td>\n",
       "      <td>34.000000</td>\n",
       "      <td>40.500000</td>\n",
       "      <td>6.600000</td>\n",
       "      <td>3.100000</td>\n",
       "      <td>0.985000</td>\n",
       "    </tr>\n",
       "    <tr>\n",
       "      <th>75%</th>\n",
       "      <td>57.000000</td>\n",
       "      <td>2.400000</td>\n",
       "      <td>1.200000</td>\n",
       "      <td>290.000000</td>\n",
       "      <td>59.000000</td>\n",
       "      <td>82.250000</td>\n",
       "      <td>7.200000</td>\n",
       "      <td>3.800000</td>\n",
       "      <td>1.100000</td>\n",
       "    </tr>\n",
       "    <tr>\n",
       "      <th>max</th>\n",
       "      <td>90.000000</td>\n",
       "      <td>75.000000</td>\n",
       "      <td>19.700000</td>\n",
       "      <td>962.000000</td>\n",
       "      <td>1680.000000</td>\n",
       "      <td>960.000000</td>\n",
       "      <td>9.600000</td>\n",
       "      <td>5.500000</td>\n",
       "      <td>2.800000</td>\n",
       "    </tr>\n",
       "  </tbody>\n",
       "</table>\n",
       "</div>"
      ],
      "text/plain": [
       "              Age  Total_Bilirubin  Direct_Bilirubin  Alkaline_Phosph  \\\n",
       "count  564.000000       564.000000        564.000000       564.000000   \n",
       "mean    44.574468         3.099291          1.386879       259.971631   \n",
       "std     16.141463         6.048246          2.710752       147.985535   \n",
       "min      4.000000         0.400000          0.100000        63.000000   \n",
       "25%     33.000000         0.800000          0.200000       175.000000   \n",
       "50%     45.000000         1.000000          0.300000       206.000000   \n",
       "75%     57.000000         2.400000          1.200000       290.000000   \n",
       "max     90.000000        75.000000         19.700000       962.000000   \n",
       "\n",
       "       Alamine_Aminotrans  Aspartate_Aminotrans  Total_Protiens     Albumin  \\\n",
       "count          564.000000            564.000000      564.000000  564.000000   \n",
       "mean            67.815603             87.585106        6.495390    3.156738   \n",
       "std            132.601279            139.286056        1.089664    0.796199   \n",
       "min             10.000000             10.000000        2.700000    0.900000   \n",
       "25%             23.000000             25.000000        5.800000    2.600000   \n",
       "50%             34.000000             40.500000        6.600000    3.100000   \n",
       "75%             59.000000             82.250000        7.200000    3.800000   \n",
       "max           1680.000000            960.000000        9.600000    5.500000   \n",
       "\n",
       "       Albumin:Globulin  \n",
       "count        560.000000  \n",
       "mean           0.953036  \n",
       "std            0.319971  \n",
       "min            0.300000  \n",
       "25%            0.700000  \n",
       "50%            0.985000  \n",
       "75%            1.100000  \n",
       "max            2.800000  "
      ]
     },
     "execution_count": 9,
     "metadata": {},
     "output_type": "execute_result"
    }
   ],
   "source": [
    "#Describe the dataset\n",
    "liver_df.describe()"
   ]
  },
  {
   "cell_type": "markdown",
   "metadata": {},
   "source": [
    "It appears we have some nulls in the Albumin:Globulin column, so we are going to remove those."
   ]
  },
  {
   "cell_type": "code",
   "execution_count": 10,
   "metadata": {},
   "outputs": [],
   "source": [
    "liver_df = liver_df.dropna(how='any',axis=0) "
   ]
  },
  {
   "cell_type": "markdown",
   "metadata": {},
   "source": [
    "Now that we know that our dataset is clean, we want to see if there is any strong correlations so that we can test those variables, and also if there is any perfect covariations, which would mean we need to delete that variable."
   ]
  },
  {
   "cell_type": "code",
   "execution_count": 11,
   "metadata": {},
   "outputs": [
    {
     "data": {
      "text/html": [
       "<div>\n",
       "<style scoped>\n",
       "    .dataframe tbody tr th:only-of-type {\n",
       "        vertical-align: middle;\n",
       "    }\n",
       "\n",
       "    .dataframe tbody tr th {\n",
       "        vertical-align: top;\n",
       "    }\n",
       "\n",
       "    .dataframe thead th {\n",
       "        text-align: right;\n",
       "    }\n",
       "</style>\n",
       "<table border=\"1\" class=\"dataframe\">\n",
       "  <thead>\n",
       "    <tr style=\"text-align: right;\">\n",
       "      <th></th>\n",
       "      <th>Age</th>\n",
       "      <th>Total_Bilirubin</th>\n",
       "      <th>Direct_Bilirubin</th>\n",
       "      <th>Alkaline_Phosph</th>\n",
       "      <th>Alamine_Aminotrans</th>\n",
       "      <th>Aspartate_Aminotrans</th>\n",
       "      <th>Total_Protiens</th>\n",
       "      <th>Albumin</th>\n",
       "      <th>Albumin:Globulin</th>\n",
       "    </tr>\n",
       "  </thead>\n",
       "  <tbody>\n",
       "    <tr>\n",
       "      <th>Age</th>\n",
       "      <td>1.000000</td>\n",
       "      <td>0.024909</td>\n",
       "      <td>0.017329</td>\n",
       "      <td>0.029663</td>\n",
       "      <td>-0.074131</td>\n",
       "      <td>-0.038014</td>\n",
       "      <td>-0.187535</td>\n",
       "      <td>-0.262727</td>\n",
       "      <td>-0.210918</td>\n",
       "    </tr>\n",
       "    <tr>\n",
       "      <th>Total_Bilirubin</th>\n",
       "      <td>0.024909</td>\n",
       "      <td>1.000000</td>\n",
       "      <td>0.863458</td>\n",
       "      <td>0.205119</td>\n",
       "      <td>0.120996</td>\n",
       "      <td>0.247050</td>\n",
       "      <td>-0.000790</td>\n",
       "      <td>-0.214893</td>\n",
       "      <td>-0.196321</td>\n",
       "    </tr>\n",
       "    <tr>\n",
       "      <th>Direct_Bilirubin</th>\n",
       "      <td>0.017329</td>\n",
       "      <td>0.863458</td>\n",
       "      <td>1.000000</td>\n",
       "      <td>0.233909</td>\n",
       "      <td>0.142882</td>\n",
       "      <td>0.275476</td>\n",
       "      <td>0.007336</td>\n",
       "      <td>-0.222822</td>\n",
       "      <td>-0.189961</td>\n",
       "    </tr>\n",
       "    <tr>\n",
       "      <th>Alkaline_Phosph</th>\n",
       "      <td>0.029663</td>\n",
       "      <td>0.205119</td>\n",
       "      <td>0.233909</td>\n",
       "      <td>1.000000</td>\n",
       "      <td>0.103279</td>\n",
       "      <td>0.115159</td>\n",
       "      <td>0.007571</td>\n",
       "      <td>-0.138268</td>\n",
       "      <td>-0.225169</td>\n",
       "    </tr>\n",
       "    <tr>\n",
       "      <th>Alamine_Aminotrans</th>\n",
       "      <td>-0.074131</td>\n",
       "      <td>0.120996</td>\n",
       "      <td>0.142882</td>\n",
       "      <td>0.103279</td>\n",
       "      <td>1.000000</td>\n",
       "      <td>0.775067</td>\n",
       "      <td>-0.022399</td>\n",
       "      <td>-0.010430</td>\n",
       "      <td>-0.004610</td>\n",
       "    </tr>\n",
       "    <tr>\n",
       "      <th>Aspartate_Aminotrans</th>\n",
       "      <td>-0.038014</td>\n",
       "      <td>0.247050</td>\n",
       "      <td>0.275476</td>\n",
       "      <td>0.115159</td>\n",
       "      <td>0.775067</td>\n",
       "      <td>1.000000</td>\n",
       "      <td>-0.033959</td>\n",
       "      <td>-0.113682</td>\n",
       "      <td>-0.101269</td>\n",
       "    </tr>\n",
       "    <tr>\n",
       "      <th>Total_Protiens</th>\n",
       "      <td>-0.187535</td>\n",
       "      <td>-0.000790</td>\n",
       "      <td>0.007336</td>\n",
       "      <td>0.007571</td>\n",
       "      <td>-0.022399</td>\n",
       "      <td>-0.033959</td>\n",
       "      <td>1.000000</td>\n",
       "      <td>0.783384</td>\n",
       "      <td>0.231609</td>\n",
       "    </tr>\n",
       "    <tr>\n",
       "      <th>Albumin</th>\n",
       "      <td>-0.262727</td>\n",
       "      <td>-0.214893</td>\n",
       "      <td>-0.222822</td>\n",
       "      <td>-0.138268</td>\n",
       "      <td>-0.010430</td>\n",
       "      <td>-0.113682</td>\n",
       "      <td>0.783384</td>\n",
       "      <td>1.000000</td>\n",
       "      <td>0.684475</td>\n",
       "    </tr>\n",
       "    <tr>\n",
       "      <th>Albumin:Globulin</th>\n",
       "      <td>-0.210918</td>\n",
       "      <td>-0.196321</td>\n",
       "      <td>-0.189961</td>\n",
       "      <td>-0.225169</td>\n",
       "      <td>-0.004610</td>\n",
       "      <td>-0.101269</td>\n",
       "      <td>0.231609</td>\n",
       "      <td>0.684475</td>\n",
       "      <td>1.000000</td>\n",
       "    </tr>\n",
       "  </tbody>\n",
       "</table>\n",
       "</div>"
      ],
      "text/plain": [
       "                           Age  Total_Bilirubin  Direct_Bilirubin  \\\n",
       "Age                   1.000000         0.024909          0.017329   \n",
       "Total_Bilirubin       0.024909         1.000000          0.863458   \n",
       "Direct_Bilirubin      0.017329         0.863458          1.000000   \n",
       "Alkaline_Phosph       0.029663         0.205119          0.233909   \n",
       "Alamine_Aminotrans   -0.074131         0.120996          0.142882   \n",
       "Aspartate_Aminotrans -0.038014         0.247050          0.275476   \n",
       "Total_Protiens       -0.187535        -0.000790          0.007336   \n",
       "Albumin              -0.262727        -0.214893         -0.222822   \n",
       "Albumin:Globulin     -0.210918        -0.196321         -0.189961   \n",
       "\n",
       "                      Alkaline_Phosph  Alamine_Aminotrans  \\\n",
       "Age                          0.029663           -0.074131   \n",
       "Total_Bilirubin              0.205119            0.120996   \n",
       "Direct_Bilirubin             0.233909            0.142882   \n",
       "Alkaline_Phosph              1.000000            0.103279   \n",
       "Alamine_Aminotrans           0.103279            1.000000   \n",
       "Aspartate_Aminotrans         0.115159            0.775067   \n",
       "Total_Protiens               0.007571           -0.022399   \n",
       "Albumin                     -0.138268           -0.010430   \n",
       "Albumin:Globulin            -0.225169           -0.004610   \n",
       "\n",
       "                      Aspartate_Aminotrans  Total_Protiens   Albumin  \\\n",
       "Age                              -0.038014       -0.187535 -0.262727   \n",
       "Total_Bilirubin                   0.247050       -0.000790 -0.214893   \n",
       "Direct_Bilirubin                  0.275476        0.007336 -0.222822   \n",
       "Alkaline_Phosph                   0.115159        0.007571 -0.138268   \n",
       "Alamine_Aminotrans                0.775067       -0.022399 -0.010430   \n",
       "Aspartate_Aminotrans              1.000000       -0.033959 -0.113682   \n",
       "Total_Protiens                   -0.033959        1.000000  0.783384   \n",
       "Albumin                          -0.113682        0.783384  1.000000   \n",
       "Albumin:Globulin                 -0.101269        0.231609  0.684475   \n",
       "\n",
       "                      Albumin:Globulin  \n",
       "Age                          -0.210918  \n",
       "Total_Bilirubin              -0.196321  \n",
       "Direct_Bilirubin             -0.189961  \n",
       "Alkaline_Phosph              -0.225169  \n",
       "Alamine_Aminotrans           -0.004610  \n",
       "Aspartate_Aminotrans         -0.101269  \n",
       "Total_Protiens                0.231609  \n",
       "Albumin                       0.684475  \n",
       "Albumin:Globulin              1.000000  "
      ]
     },
     "execution_count": 11,
     "metadata": {},
     "output_type": "execute_result"
    }
   ],
   "source": [
    "#Describe the correlation between variables\n",
    "liver_df.corr()"
   ]
  },
  {
   "cell_type": "markdown",
   "metadata": {},
   "source": [
    "There aren't any red flags, but there also aren't any interesting correlations. We know that those with liver disease will have different baseline levels from those that are healthy, so let's see what the difference is in the average between the two."
   ]
  },
  {
   "cell_type": "code",
   "execution_count": 12,
   "metadata": {},
   "outputs": [
    {
     "data": {
      "text/html": [
       "<div>\n",
       "<style scoped>\n",
       "    .dataframe tbody tr th:only-of-type {\n",
       "        vertical-align: middle;\n",
       "    }\n",
       "\n",
       "    .dataframe tbody tr th {\n",
       "        vertical-align: top;\n",
       "    }\n",
       "\n",
       "    .dataframe thead th {\n",
       "        text-align: right;\n",
       "    }\n",
       "</style>\n",
       "<table border=\"1\" class=\"dataframe\">\n",
       "  <thead>\n",
       "    <tr style=\"text-align: right;\">\n",
       "      <th></th>\n",
       "      <th>Age</th>\n",
       "      <th>Alamine_Aminotrans</th>\n",
       "      <th>Albumin</th>\n",
       "      <th>Albumin:Globulin</th>\n",
       "      <th>Alkaline_Phosph</th>\n",
       "      <th>Aspartate_Aminotrans</th>\n",
       "      <th>Direct_Bilirubin</th>\n",
       "      <th>Total_Bilirubin</th>\n",
       "      <th>Total_Protiens</th>\n",
       "    </tr>\n",
       "    <tr>\n",
       "      <th>Dataset</th>\n",
       "      <th></th>\n",
       "      <th></th>\n",
       "      <th></th>\n",
       "      <th></th>\n",
       "      <th></th>\n",
       "      <th></th>\n",
       "      <th></th>\n",
       "      <th></th>\n",
       "      <th></th>\n",
       "    </tr>\n",
       "  </thead>\n",
       "  <tbody>\n",
       "    <tr>\n",
       "      <th>Liver Patient</th>\n",
       "      <td>45.977273</td>\n",
       "      <td>82.497475</td>\n",
       "      <td>3.073737</td>\n",
       "      <td>0.920253</td>\n",
       "      <td>280.520202</td>\n",
       "      <td>107.545455</td>\n",
       "      <td>1.815909</td>\n",
       "      <td>3.946465</td>\n",
       "      <td>6.472727</td>\n",
       "    </tr>\n",
       "    <tr>\n",
       "      <th>Non-Liver Patient</th>\n",
       "      <td>41.310976</td>\n",
       "      <td>33.506098</td>\n",
       "      <td>3.345732</td>\n",
       "      <td>1.032195</td>\n",
       "      <td>212.396341</td>\n",
       "      <td>40.621951</td>\n",
       "      <td>0.376829</td>\n",
       "      <td>1.107317</td>\n",
       "      <td>6.545122</td>\n",
       "    </tr>\n",
       "  </tbody>\n",
       "</table>\n",
       "</div>"
      ],
      "text/plain": [
       "                         Age  Alamine_Aminotrans   Albumin  Albumin:Globulin  \\\n",
       "Dataset                                                                        \n",
       "Liver Patient      45.977273           82.497475  3.073737          0.920253   \n",
       "Non-Liver Patient  41.310976           33.506098  3.345732          1.032195   \n",
       "\n",
       "                   Alkaline_Phosph  Aspartate_Aminotrans  Direct_Bilirubin  \\\n",
       "Dataset                                                                      \n",
       "Liver Patient           280.520202            107.545455          1.815909   \n",
       "Non-Liver Patient       212.396341             40.621951          0.376829   \n",
       "\n",
       "                   Total_Bilirubin  Total_Protiens  \n",
       "Dataset                                             \n",
       "Liver Patient             3.946465        6.472727  \n",
       "Non-Liver Patient         1.107317        6.545122  "
      ]
     },
     "execution_count": 12,
     "metadata": {},
     "output_type": "execute_result"
    }
   ],
   "source": [
    "#Display a pivot table with the means of each numeric variable, split by What type of patient\n",
    "pd.pivot_table(liver_df,index=['Dataset'])"
   ]
  },
  {
   "cell_type": "markdown",
   "metadata": {},
   "source": [
    "We are seeing the biggest differences in the Alamine Aminotransferase levels, the Alkaline Phosphatase levels, the Aspartate Aminotransferase levels and the Direct Bilirubin levels. However, we know that men and women should have different baselines. So, let's split out the data by gender as well, and see if any variable becomes a stronger or weaker indicator"
   ]
  },
  {
   "cell_type": "code",
   "execution_count": 13,
   "metadata": {},
   "outputs": [
    {
     "data": {
      "text/html": [
       "<div>\n",
       "<style scoped>\n",
       "    .dataframe tbody tr th:only-of-type {\n",
       "        vertical-align: middle;\n",
       "    }\n",
       "\n",
       "    .dataframe tbody tr th {\n",
       "        vertical-align: top;\n",
       "    }\n",
       "\n",
       "    .dataframe thead th {\n",
       "        text-align: right;\n",
       "    }\n",
       "</style>\n",
       "<table border=\"1\" class=\"dataframe\">\n",
       "  <thead>\n",
       "    <tr style=\"text-align: right;\">\n",
       "      <th></th>\n",
       "      <th></th>\n",
       "      <th>Age</th>\n",
       "      <th>Alamine_Aminotrans</th>\n",
       "      <th>Albumin</th>\n",
       "      <th>Albumin:Globulin</th>\n",
       "      <th>Alkaline_Phosph</th>\n",
       "      <th>Aspartate_Aminotrans</th>\n",
       "      <th>Direct_Bilirubin</th>\n",
       "      <th>Total_Bilirubin</th>\n",
       "      <th>Total_Protiens</th>\n",
       "    </tr>\n",
       "    <tr>\n",
       "      <th>Dataset</th>\n",
       "      <th>Gender</th>\n",
       "      <th></th>\n",
       "      <th></th>\n",
       "      <th></th>\n",
       "      <th></th>\n",
       "      <th></th>\n",
       "      <th></th>\n",
       "      <th></th>\n",
       "      <th></th>\n",
       "      <th></th>\n",
       "    </tr>\n",
       "  </thead>\n",
       "  <tbody>\n",
       "    <tr>\n",
       "      <th rowspan=\"2\" valign=\"top\">Liver Patient</th>\n",
       "      <th>Female</th>\n",
       "      <td>43.000000</td>\n",
       "      <td>55.541176</td>\n",
       "      <td>3.255294</td>\n",
       "      <td>0.933529</td>\n",
       "      <td>275.211765</td>\n",
       "      <td>73.952941</td>\n",
       "      <td>1.085882</td>\n",
       "      <td>2.490588</td>\n",
       "      <td>6.702353</td>\n",
       "    </tr>\n",
       "    <tr>\n",
       "      <th>Male</th>\n",
       "      <td>46.790997</td>\n",
       "      <td>89.864952</td>\n",
       "      <td>3.024116</td>\n",
       "      <td>0.916624</td>\n",
       "      <td>281.971061</td>\n",
       "      <td>116.726688</td>\n",
       "      <td>2.015434</td>\n",
       "      <td>4.344373</td>\n",
       "      <td>6.409968</td>\n",
       "    </tr>\n",
       "    <tr>\n",
       "      <th rowspan=\"2\" valign=\"top\">Non-Liver Patient</th>\n",
       "      <th>Female</th>\n",
       "      <td>42.897959</td>\n",
       "      <td>30.102041</td>\n",
       "      <td>3.363265</td>\n",
       "      <td>1.007347</td>\n",
       "      <td>203.755102</td>\n",
       "      <td>32.183673</td>\n",
       "      <td>0.269388</td>\n",
       "      <td>0.912245</td>\n",
       "      <td>6.608163</td>\n",
       "    </tr>\n",
       "    <tr>\n",
       "      <th>Male</th>\n",
       "      <td>40.634783</td>\n",
       "      <td>34.956522</td>\n",
       "      <td>3.338261</td>\n",
       "      <td>1.042783</td>\n",
       "      <td>216.078261</td>\n",
       "      <td>44.217391</td>\n",
       "      <td>0.422609</td>\n",
       "      <td>1.190435</td>\n",
       "      <td>6.518261</td>\n",
       "    </tr>\n",
       "  </tbody>\n",
       "</table>\n",
       "</div>"
      ],
      "text/plain": [
       "                                Age  Alamine_Aminotrans   Albumin  \\\n",
       "Dataset           Gender                                            \n",
       "Liver Patient     Female  43.000000           55.541176  3.255294   \n",
       "                  Male    46.790997           89.864952  3.024116   \n",
       "Non-Liver Patient Female  42.897959           30.102041  3.363265   \n",
       "                  Male    40.634783           34.956522  3.338261   \n",
       "\n",
       "                          Albumin:Globulin  Alkaline_Phosph  \\\n",
       "Dataset           Gender                                      \n",
       "Liver Patient     Female          0.933529       275.211765   \n",
       "                  Male            0.916624       281.971061   \n",
       "Non-Liver Patient Female          1.007347       203.755102   \n",
       "                  Male            1.042783       216.078261   \n",
       "\n",
       "                          Aspartate_Aminotrans  Direct_Bilirubin  \\\n",
       "Dataset           Gender                                           \n",
       "Liver Patient     Female             73.952941          1.085882   \n",
       "                  Male              116.726688          2.015434   \n",
       "Non-Liver Patient Female             32.183673          0.269388   \n",
       "                  Male               44.217391          0.422609   \n",
       "\n",
       "                          Total_Bilirubin  Total_Protiens  \n",
       "Dataset           Gender                                   \n",
       "Liver Patient     Female         2.490588        6.702353  \n",
       "                  Male           4.344373        6.409968  \n",
       "Non-Liver Patient Female         0.912245        6.608163  \n",
       "                  Male           1.190435        6.518261  "
      ]
     },
     "execution_count": 13,
     "metadata": {},
     "output_type": "execute_result"
    }
   ],
   "source": [
    "#Display a pivot table with the means of each numeric variable, split by What type of patient and the gender\n",
    "pd.pivot_table(liver_df,index=['Dataset','Gender'])"
   ]
  },
  {
   "cell_type": "markdown",
   "metadata": {},
   "source": [
    "It now becomes obvious that the Aspartate Aminotransferase has the largest difference between sick and healthy livers, when the gender is accounted for. Lets now plot that against age and see if there is a strong difference."
   ]
  },
  {
   "cell_type": "code",
   "execution_count": 14,
   "metadata": {},
   "outputs": [
    {
     "data": {
      "text/plain": [
       "Text(0.5,1,'Aspartate Aminotransferase by Age')"
      ]
     },
     "execution_count": 14,
     "metadata": {},
     "output_type": "execute_result"
    },
    {
     "data": {
      "image/png": "[encoded data removed]",
      "text/plain": [
       "<Figure size 482.375x360 with 1 Axes>"
      ]
     },
     "metadata": {},
     "output_type": "display_data"
    }
   ],
   "source": [
    "#Display a regression plot by age and amount of Aspartate Aminotransferase in the blood, split by type of patient along with a title\n",
    "sns.lmplot(data=liver_df,x='Age',y='Aspartate_Aminotrans',hue='Dataset',scatter_kws={'alpha':0.4},markers='.')\n",
    "plt.title('Aspartate Aminotransferase by Age')"
   ]
  },
  {
   "cell_type": "markdown",
   "metadata": {},
   "source": [
    "We have success! Although the difference becomes weaker with age, a high level of Aspartate Aminotransferase in the blood at a young age is the best way to check for liver disease if you only have the ability to check for one protien level in the blood. If doctors only have the resources to order one test, the most effective to determine the worth of further tests is the Aspartate Aminotransferase level. With this knowledge, we can help lower medical cost for potential hepatitis patients in other countries."
   ]
  },
  {
   "cell_type": "markdown",
   "metadata": {},
   "source": [
    "## Section 2: Android App Data\n",
    "\n",
    "In today's world of constantly rising startups, one may be interested in what causes an app to fail or succeed. In this case, we will be examining what variables affect the likelihood of an app recieving a high overall rating.\n",
    "\n",
    "We first will read in our excel that was scraped from the Android Play Store, and converted to a CSV. I then saved it as an excel and imported it into our dataframe."
   ]
  },
  {
   "cell_type": "code",
   "execution_count": 15,
   "metadata": {},
   "outputs": [
    {
     "data": {
      "text/html": [
       "<div>\n",
       "<style scoped>\n",
       "    .dataframe tbody tr th:only-of-type {\n",
       "        vertical-align: middle;\n",
       "    }\n",
       "\n",
       "    .dataframe tbody tr th {\n",
       "        vertical-align: top;\n",
       "    }\n",
       "\n",
       "    .dataframe thead th {\n",
       "        text-align: right;\n",
       "    }\n",
       "</style>\n",
       "<table border=\"1\" class=\"dataframe\">\n",
       "  <thead>\n",
       "    <tr style=\"text-align: right;\">\n",
       "      <th></th>\n",
       "      <th>App</th>\n",
       "      <th>Category</th>\n",
       "      <th>Rating</th>\n",
       "      <th>Reviews</th>\n",
       "      <th>Size</th>\n",
       "      <th>Installs</th>\n",
       "      <th>Type</th>\n",
       "      <th>Price</th>\n",
       "      <th>Content Rating</th>\n",
       "      <th>Genres</th>\n",
       "      <th>Last Updated</th>\n",
       "      <th>Current Ver</th>\n",
       "      <th>Android Ver</th>\n",
       "    </tr>\n",
       "  </thead>\n",
       "  <tbody>\n",
       "    <tr>\n",
       "      <th>0</th>\n",
       "      <td>Photo Editor &amp; Candy Camera &amp; Grid &amp; ScrapBook</td>\n",
       "      <td>ART_AND_DESIGN</td>\n",
       "      <td>4.1</td>\n",
       "      <td>159</td>\n",
       "      <td>19M</td>\n",
       "      <td>10000</td>\n",
       "      <td>Free</td>\n",
       "      <td>0</td>\n",
       "      <td>Everyone</td>\n",
       "      <td>Art &amp; Design</td>\n",
       "      <td>2018-01-07 00:00:00</td>\n",
       "      <td>1.0.0</td>\n",
       "      <td>4.0.3 and up</td>\n",
       "    </tr>\n",
       "    <tr>\n",
       "      <th>1</th>\n",
       "      <td>Coloring book moana</td>\n",
       "      <td>ART_AND_DESIGN</td>\n",
       "      <td>3.9</td>\n",
       "      <td>967</td>\n",
       "      <td>14M</td>\n",
       "      <td>500000</td>\n",
       "      <td>Free</td>\n",
       "      <td>0</td>\n",
       "      <td>Everyone</td>\n",
       "      <td>Art &amp; Design;Pretend Play</td>\n",
       "      <td>2018-01-15 00:00:00</td>\n",
       "      <td>2.0.0</td>\n",
       "      <td>4.0.3 and up</td>\n",
       "    </tr>\n",
       "  </tbody>\n",
       "</table>\n",
       "</div>"
      ],
      "text/plain": [
       "                                              App        Category  Rating  \\\n",
       "0  Photo Editor & Candy Camera & Grid & ScrapBook  ART_AND_DESIGN     4.1   \n",
       "1                             Coloring book moana  ART_AND_DESIGN     3.9   \n",
       "\n",
       "  Reviews Size Installs  Type Price Content Rating                     Genres  \\\n",
       "0     159  19M    10000  Free     0       Everyone               Art & Design   \n",
       "1     967  14M   500000  Free     0       Everyone  Art & Design;Pretend Play   \n",
       "\n",
       "          Last Updated Current Ver   Android Ver  \n",
       "0  2018-01-07 00:00:00       1.0.0  4.0.3 and up  \n",
       "1  2018-01-15 00:00:00       2.0.0  4.0.3 and up  "
      ]
     },
     "execution_count": 15,
     "metadata": {},
     "output_type": "execute_result"
    }
   ],
   "source": [
    "#Read in the data from an Excel file and display the first two rows\n",
    "aapps_df = pd.read_excel(r\"C:\\Users\\zgeorge\\Dropbox (CMN Hospitals)\\George\\School\\Fall 2018\\Applied Machine Learning\\practice_python\\Homework 1\\Android_Data.xlsx\")\n",
    "aapps_df.head(2)"
   ]
  },
  {
   "cell_type": "markdown",
   "metadata": {},
   "source": [
    "In order to make sure that the data was usable, we are going to modify the Intalls column so that it will be entirely integers, for better analysis."
   ]
  },
  {
   "cell_type": "code",
   "execution_count": 16,
   "metadata": {},
   "outputs": [
    {
     "data": {
      "text/html": [
       "<div>\n",
       "<style scoped>\n",
       "    .dataframe tbody tr th:only-of-type {\n",
       "        vertical-align: middle;\n",
       "    }\n",
       "\n",
       "    .dataframe tbody tr th {\n",
       "        vertical-align: top;\n",
       "    }\n",
       "\n",
       "    .dataframe thead th {\n",
       "        text-align: right;\n",
       "    }\n",
       "</style>\n",
       "<table border=\"1\" class=\"dataframe\">\n",
       "  <thead>\n",
       "    <tr style=\"text-align: right;\">\n",
       "      <th></th>\n",
       "      <th>App</th>\n",
       "      <th>Category</th>\n",
       "      <th>Rating</th>\n",
       "      <th>Reviews</th>\n",
       "      <th>Size</th>\n",
       "      <th>Installs</th>\n",
       "      <th>Type</th>\n",
       "      <th>Price</th>\n",
       "      <th>Content Rating</th>\n",
       "      <th>Genres</th>\n",
       "      <th>Last Updated</th>\n",
       "      <th>Current Ver</th>\n",
       "      <th>Android Ver</th>\n",
       "    </tr>\n",
       "  </thead>\n",
       "  <tbody>\n",
       "    <tr>\n",
       "      <th>0</th>\n",
       "      <td>Photo Editor &amp; Candy Camera &amp; Grid &amp; ScrapBook</td>\n",
       "      <td>ART_AND_DESIGN</td>\n",
       "      <td>4.1</td>\n",
       "      <td>159</td>\n",
       "      <td>19M</td>\n",
       "      <td>10000</td>\n",
       "      <td>Free</td>\n",
       "      <td>0</td>\n",
       "      <td>Everyone</td>\n",
       "      <td>Art &amp; Design</td>\n",
       "      <td>2018-01-07 00:00:00</td>\n",
       "      <td>1.0.0</td>\n",
       "      <td>4.0.3 and up</td>\n",
       "    </tr>\n",
       "    <tr>\n",
       "      <th>1</th>\n",
       "      <td>Coloring book moana</td>\n",
       "      <td>ART_AND_DESIGN</td>\n",
       "      <td>3.9</td>\n",
       "      <td>967</td>\n",
       "      <td>14M</td>\n",
       "      <td>500000</td>\n",
       "      <td>Free</td>\n",
       "      <td>0</td>\n",
       "      <td>Everyone</td>\n",
       "      <td>Art &amp; Design;Pretend Play</td>\n",
       "      <td>2018-01-15 00:00:00</td>\n",
       "      <td>2.0.0</td>\n",
       "      <td>4.0.3 and up</td>\n",
       "    </tr>\n",
       "    <tr>\n",
       "      <th>2</th>\n",
       "      <td>U Launcher Lite â€“ FREE Live Cool Themes, Hid...</td>\n",
       "      <td>ART_AND_DESIGN</td>\n",
       "      <td>4.7</td>\n",
       "      <td>87510</td>\n",
       "      <td>8.7M</td>\n",
       "      <td>5000000</td>\n",
       "      <td>Free</td>\n",
       "      <td>0</td>\n",
       "      <td>Everyone</td>\n",
       "      <td>Art &amp; Design</td>\n",
       "      <td>2018-08-01 00:00:00</td>\n",
       "      <td>1.2.4</td>\n",
       "      <td>4.0.3 and up</td>\n",
       "    </tr>\n",
       "    <tr>\n",
       "      <th>3</th>\n",
       "      <td>Sketch - Draw &amp; Paint</td>\n",
       "      <td>ART_AND_DESIGN</td>\n",
       "      <td>4.5</td>\n",
       "      <td>215644</td>\n",
       "      <td>25M</td>\n",
       "      <td>50000000</td>\n",
       "      <td>Free</td>\n",
       "      <td>0</td>\n",
       "      <td>Teen</td>\n",
       "      <td>Art &amp; Design</td>\n",
       "      <td>2018-06-08 00:00:00</td>\n",
       "      <td>Varies with device</td>\n",
       "      <td>4.2 and up</td>\n",
       "    </tr>\n",
       "    <tr>\n",
       "      <th>4</th>\n",
       "      <td>Pixel Draw - Number Art Coloring Book</td>\n",
       "      <td>ART_AND_DESIGN</td>\n",
       "      <td>4.3</td>\n",
       "      <td>967</td>\n",
       "      <td>2.8M</td>\n",
       "      <td>100000</td>\n",
       "      <td>Free</td>\n",
       "      <td>0</td>\n",
       "      <td>Everyone</td>\n",
       "      <td>Art &amp; Design;Creativity</td>\n",
       "      <td>2018-06-20 00:00:00</td>\n",
       "      <td>1.1</td>\n",
       "      <td>4.4 and up</td>\n",
       "    </tr>\n",
       "  </tbody>\n",
       "</table>\n",
       "</div>"
      ],
      "text/plain": [
       "                                                 App        Category  Rating  \\\n",
       "0     Photo Editor & Candy Camera & Grid & ScrapBook  ART_AND_DESIGN     4.1   \n",
       "1                                Coloring book moana  ART_AND_DESIGN     3.9   \n",
       "2  U Launcher Lite â€“ FREE Live Cool Themes, Hid...  ART_AND_DESIGN     4.7   \n",
       "3                              Sketch - Draw & Paint  ART_AND_DESIGN     4.5   \n",
       "4              Pixel Draw - Number Art Coloring Book  ART_AND_DESIGN     4.3   \n",
       "\n",
       "  Reviews  Size  Installs  Type Price Content Rating  \\\n",
       "0     159   19M     10000  Free     0       Everyone   \n",
       "1     967   14M    500000  Free     0       Everyone   \n",
       "2   87510  8.7M   5000000  Free     0       Everyone   \n",
       "3  215644   25M  50000000  Free     0           Teen   \n",
       "4     967  2.8M    100000  Free     0       Everyone   \n",
       "\n",
       "                      Genres         Last Updated         Current Ver  \\\n",
       "0               Art & Design  2018-01-07 00:00:00               1.0.0   \n",
       "1  Art & Design;Pretend Play  2018-01-15 00:00:00               2.0.0   \n",
       "2               Art & Design  2018-08-01 00:00:00               1.2.4   \n",
       "3               Art & Design  2018-06-08 00:00:00  Varies with device   \n",
       "4    Art & Design;Creativity  2018-06-20 00:00:00                 1.1   \n",
       "\n",
       "    Android Ver  \n",
       "0  4.0.3 and up  \n",
       "1  4.0.3 and up  \n",
       "2  4.0.3 and up  \n",
       "3    4.2 and up  \n",
       "4    4.4 and up  "
      ]
     },
     "execution_count": 16,
     "metadata": {},
     "output_type": "execute_result"
    }
   ],
   "source": [
    "#Remove any string of \"F+\" in the Installs column\n",
    "aapps_df['Installs'].replace({\"+\": \"\"})\n",
    "#Display the top five rows\n",
    "aapps_df.head(5)"
   ]
  },
  {
   "cell_type": "markdown",
   "metadata": {},
   "source": [
    "Before we can analyze the data, we need to clean it. It appears that there are many nulls and so we need to remove those. Before doing so, and knowing that this data was scraped, I want to confirm that there aren't any rows in which the data has been shifted one way or the other so I will print them out and confirm that they are correct."
   ]
  },
  {
   "cell_type": "code",
   "execution_count": 17,
   "metadata": {},
   "outputs": [
    {
     "data": {
      "text/plain": [
       "App                  1\n",
       "Rating            1474\n",
       "Type                 1\n",
       "Content Rating       1\n",
       "Current Ver          8\n",
       "Android Ver          3\n",
       "dtype: int64"
      ]
     },
     "execution_count": 17,
     "metadata": {},
     "output_type": "execute_result"
    }
   ],
   "source": [
    "#Determine the number nulls in each column\n",
    "null_columns=aapps_df.columns[aapps_df.isnull().any()]\n",
    "aapps_df[null_columns].isnull().sum()"
   ]
  },
  {
   "cell_type": "code",
   "execution_count": 18,
   "metadata": {},
   "outputs": [],
   "source": [
    "#define a new function that allows us to view the nulls in each column.\n",
    "def findnulls(col):\n",
    "    print(\"***********\", col ,\" NA's***********\")\n",
    "    print(aapps_df[aapps_df[col].isnull()][null_columns])"
   ]
  },
  {
   "cell_type": "code",
   "execution_count": 19,
   "metadata": {},
   "outputs": [
    {
     "name": "stdout",
     "output_type": "stream",
     "text": [
      "*********** Type  NA's***********\n",
      "                            App  Rating Type Content Rating  \\\n",
      "9148  Command & Conquer: Rivals     NaN  NaN   Everyone 10+   \n",
      "\n",
      "             Current Ver         Android Ver  \n",
      "9148  Varies with device  Varies with device  \n"
     ]
    }
   ],
   "source": [
    "#Show the nulls in the 'Type' column\n",
    "findnulls('Type')"
   ]
  },
  {
   "cell_type": "code",
   "execution_count": 20,
   "metadata": {},
   "outputs": [
    {
     "name": "stdout",
     "output_type": "stream",
     "text": [
      "*********** Content Rating  NA's***********\n",
      "                                           App  Rating Type Content Rating  \\\n",
      "10472  Life Made WI-Fi Touchscreen Photo Frame    19.0    0            NaN   \n",
      "\n",
      "      Current Ver Android Ver  \n",
      "10472  4.0 and up         NaN  \n"
     ]
    }
   ],
   "source": [
    "#Show the nulls in the 'Content Rating' column\n",
    "findnulls('Content Rating')"
   ]
  },
  {
   "cell_type": "code",
   "execution_count": 21,
   "metadata": {},
   "outputs": [
    {
     "name": "stdout",
     "output_type": "stream",
     "text": [
      "*********** Current Ver  NA's***********\n",
      "                                   App  Rating  Type Content Rating  \\\n",
      "15     Learn To Draw Kawaii Characters     3.2  Free       Everyone   \n",
      "1553              Market Update Helper     4.1  Free       Everyone   \n",
      "6322            Virtual DJ Sound Mixer     4.2  Free       Everyone   \n",
      "6803                         BT Master     NaN  Free       Everyone   \n",
      "7333                       Dots puzzle     4.0  Paid       Everyone   \n",
      "7407                   Calculate My IQ     NaN  Free       Everyone   \n",
      "7730                            UFO-CQ     NaN  Paid       Everyone   \n",
      "10342                   La Fe de Jesus     NaN  Free       Everyone   \n",
      "\n",
      "      Current Ver Android Ver  \n",
      "15            NaN  4.2 and up  \n",
      "1553          NaN  1.5 and up  \n",
      "6322          NaN  4.0 and up  \n",
      "6803          NaN  1.6 and up  \n",
      "7333          NaN  4.0 and up  \n",
      "7407          NaN  2.3 and up  \n",
      "7730          NaN  2.0 and up  \n",
      "10342         NaN  3.0 and up  \n"
     ]
    }
   ],
   "source": [
    "#Show the nulls in the 'Current Ver' column\n",
    "findnulls('Current Ver')"
   ]
  },
  {
   "cell_type": "code",
   "execution_count": 22,
   "metadata": {},
   "outputs": [
    {
     "name": "stdout",
     "output_type": "stream",
     "text": [
      "*********** Android Ver  NA's***********\n",
      "                                           App  Rating  Type Content Rating  \\\n",
      "4453                    [substratum] Vacuum: P     4.4  Paid       Everyone   \n",
      "4490                      Pi Dark [substratum]     4.5  Free       Everyone   \n",
      "10472  Life Made WI-Fi Touchscreen Photo Frame    19.0     0            NaN   \n",
      "\n",
      "      Current Ver Android Ver  \n",
      "4453          4.4         NaN  \n",
      "4490          1.1         NaN  \n",
      "10472  4.0 and up         NaN  \n"
     ]
    }
   ],
   "source": [
    "#Show the nulls in the 'Android Ver' column\n",
    "findnulls('Android Ver')"
   ]
  },
  {
   "cell_type": "markdown",
   "metadata": {},
   "source": [
    "Just as I feared, row # 10472 has been shifted and so along with dropping all other Nulls, we are going to drop that row entirely, as we cannot be sure of it's validity."
   ]
  },
  {
   "cell_type": "code",
   "execution_count": 23,
   "metadata": {},
   "outputs": [],
   "source": [
    "#Remove the affecting row\n",
    "aapps_df = aapps_df[aapps_df.App != 'Life Made WI-Fi Touchscreen Photo Frame']\n",
    "#Drop all other n/a's\n",
    "aapps_df = aapps_df.dropna()"
   ]
  },
  {
   "cell_type": "markdown",
   "metadata": {},
   "source": [
    "The only numeric variable that I am concerned with throwing off the analysis is the price, as most apps likely won't be above $20 or so from my experience. So we should check to see if there are any more above that."
   ]
  },
  {
   "cell_type": "code",
   "execution_count": 24,
   "metadata": {},
   "outputs": [
    {
     "data": {
      "text/html": [
       "<div>\n",
       "<style scoped>\n",
       "    .dataframe tbody tr th:only-of-type {\n",
       "        vertical-align: middle;\n",
       "    }\n",
       "\n",
       "    .dataframe tbody tr th {\n",
       "        vertical-align: top;\n",
       "    }\n",
       "\n",
       "    .dataframe thead th {\n",
       "        text-align: right;\n",
       "    }\n",
       "</style>\n",
       "<table border=\"1\" class=\"dataframe\">\n",
       "  <thead>\n",
       "    <tr style=\"text-align: right;\">\n",
       "      <th></th>\n",
       "      <th>App</th>\n",
       "      <th>Category</th>\n",
       "      <th>Rating</th>\n",
       "      <th>Reviews</th>\n",
       "      <th>Size</th>\n",
       "      <th>Installs</th>\n",
       "      <th>Type</th>\n",
       "      <th>Price</th>\n",
       "      <th>Content Rating</th>\n",
       "      <th>Genres</th>\n",
       "      <th>Last Updated</th>\n",
       "      <th>Current Ver</th>\n",
       "      <th>Android Ver</th>\n",
       "    </tr>\n",
       "  </thead>\n",
       "  <tbody>\n",
       "    <tr>\n",
       "      <th>4367</th>\n",
       "      <td>I'm Rich - Trump Edition</td>\n",
       "      <td>LIFESTYLE</td>\n",
       "      <td>3.6</td>\n",
       "      <td>275</td>\n",
       "      <td>7.3M</td>\n",
       "      <td>10000</td>\n",
       "      <td>Paid</td>\n",
       "      <td>400</td>\n",
       "      <td>Everyone</td>\n",
       "      <td>Lifestyle</td>\n",
       "      <td>2018-05-03 00:00:00</td>\n",
       "      <td>1.0.1</td>\n",
       "      <td>4.1 and up</td>\n",
       "    </tr>\n",
       "    <tr>\n",
       "      <th>5358</th>\n",
       "      <td>I am Rich!</td>\n",
       "      <td>FINANCE</td>\n",
       "      <td>3.8</td>\n",
       "      <td>93</td>\n",
       "      <td>22M</td>\n",
       "      <td>1000</td>\n",
       "      <td>Paid</td>\n",
       "      <td>399.99</td>\n",
       "      <td>Everyone</td>\n",
       "      <td>Finance</td>\n",
       "      <td>2017-12-11 00:00:00</td>\n",
       "      <td>1</td>\n",
       "      <td>4.1 and up</td>\n",
       "    </tr>\n",
       "    <tr>\n",
       "      <th>5373</th>\n",
       "      <td>I AM RICH PRO PLUS</td>\n",
       "      <td>FINANCE</td>\n",
       "      <td>4.0</td>\n",
       "      <td>36</td>\n",
       "      <td>41M</td>\n",
       "      <td>1000</td>\n",
       "      <td>Paid</td>\n",
       "      <td>399.99</td>\n",
       "      <td>Everyone</td>\n",
       "      <td>Finance</td>\n",
       "      <td>2018-06-25 00:00:00</td>\n",
       "      <td>1.0.2</td>\n",
       "      <td>4.1 and up</td>\n",
       "    </tr>\n",
       "    <tr>\n",
       "      <th>5369</th>\n",
       "      <td>I am Rich</td>\n",
       "      <td>FINANCE</td>\n",
       "      <td>4.3</td>\n",
       "      <td>180</td>\n",
       "      <td>3.8M</td>\n",
       "      <td>5000</td>\n",
       "      <td>Paid</td>\n",
       "      <td>399.99</td>\n",
       "      <td>Everyone</td>\n",
       "      <td>Finance</td>\n",
       "      <td>2018-03-22 00:00:00</td>\n",
       "      <td>1</td>\n",
       "      <td>4.2 and up</td>\n",
       "    </tr>\n",
       "    <tr>\n",
       "      <th>4197</th>\n",
       "      <td>most expensive app (H)</td>\n",
       "      <td>FAMILY</td>\n",
       "      <td>4.3</td>\n",
       "      <td>6</td>\n",
       "      <td>1.5M</td>\n",
       "      <td>100</td>\n",
       "      <td>Paid</td>\n",
       "      <td>399.99</td>\n",
       "      <td>Everyone</td>\n",
       "      <td>Entertainment</td>\n",
       "      <td>2018-07-16 00:00:00</td>\n",
       "      <td>1</td>\n",
       "      <td>7.0 and up</td>\n",
       "    </tr>\n",
       "    <tr>\n",
       "      <th>4362</th>\n",
       "      <td>ðŸ’Ž I'm rich</td>\n",
       "      <td>LIFESTYLE</td>\n",
       "      <td>3.8</td>\n",
       "      <td>718</td>\n",
       "      <td>26M</td>\n",
       "      <td>10000</td>\n",
       "      <td>Paid</td>\n",
       "      <td>399.99</td>\n",
       "      <td>Everyone</td>\n",
       "      <td>Lifestyle</td>\n",
       "      <td>2018-03-11 00:00:00</td>\n",
       "      <td>1.0.0</td>\n",
       "      <td>4.4 and up</td>\n",
       "    </tr>\n",
       "    <tr>\n",
       "      <th>5362</th>\n",
       "      <td>I Am Rich Pro</td>\n",
       "      <td>FAMILY</td>\n",
       "      <td>4.4</td>\n",
       "      <td>201</td>\n",
       "      <td>2.7M</td>\n",
       "      <td>5000</td>\n",
       "      <td>Paid</td>\n",
       "      <td>399.99</td>\n",
       "      <td>Everyone</td>\n",
       "      <td>Entertainment</td>\n",
       "      <td>2017-05-30 00:00:00</td>\n",
       "      <td>1.54</td>\n",
       "      <td>1.6 and up</td>\n",
       "    </tr>\n",
       "    <tr>\n",
       "      <th>5359</th>\n",
       "      <td>I am rich(premium)</td>\n",
       "      <td>FINANCE</td>\n",
       "      <td>3.5</td>\n",
       "      <td>472</td>\n",
       "      <td>965k</td>\n",
       "      <td>5000</td>\n",
       "      <td>Paid</td>\n",
       "      <td>399.99</td>\n",
       "      <td>Everyone</td>\n",
       "      <td>Finance</td>\n",
       "      <td>2017-05-01 00:00:00</td>\n",
       "      <td>3.4</td>\n",
       "      <td>4.4 and up</td>\n",
       "    </tr>\n",
       "    <tr>\n",
       "      <th>5364</th>\n",
       "      <td>I am rich (Most expensive app)</td>\n",
       "      <td>FINANCE</td>\n",
       "      <td>4.1</td>\n",
       "      <td>129</td>\n",
       "      <td>2.7M</td>\n",
       "      <td>1000</td>\n",
       "      <td>Paid</td>\n",
       "      <td>399.99</td>\n",
       "      <td>Teen</td>\n",
       "      <td>Finance</td>\n",
       "      <td>2017-12-06 00:00:00</td>\n",
       "      <td>2</td>\n",
       "      <td>4.0.3 and up</td>\n",
       "    </tr>\n",
       "    <tr>\n",
       "      <th>5356</th>\n",
       "      <td>I Am Rich Premium</td>\n",
       "      <td>FINANCE</td>\n",
       "      <td>4.1</td>\n",
       "      <td>1867</td>\n",
       "      <td>4.7M</td>\n",
       "      <td>50000</td>\n",
       "      <td>Paid</td>\n",
       "      <td>399.99</td>\n",
       "      <td>Everyone</td>\n",
       "      <td>Finance</td>\n",
       "      <td>2017-11-12 00:00:00</td>\n",
       "      <td>1.6</td>\n",
       "      <td>4.0 and up</td>\n",
       "    </tr>\n",
       "    <tr>\n",
       "      <th>5354</th>\n",
       "      <td>I am Rich Plus</td>\n",
       "      <td>FAMILY</td>\n",
       "      <td>4.0</td>\n",
       "      <td>856</td>\n",
       "      <td>8.7M</td>\n",
       "      <td>10000</td>\n",
       "      <td>Paid</td>\n",
       "      <td>399.99</td>\n",
       "      <td>Everyone</td>\n",
       "      <td>Entertainment</td>\n",
       "      <td>2018-05-19 00:00:00</td>\n",
       "      <td>3</td>\n",
       "      <td>4.4 and up</td>\n",
       "    </tr>\n",
       "    <tr>\n",
       "      <th>5351</th>\n",
       "      <td>I am rich</td>\n",
       "      <td>LIFESTYLE</td>\n",
       "      <td>3.8</td>\n",
       "      <td>3547</td>\n",
       "      <td>1.8M</td>\n",
       "      <td>100000</td>\n",
       "      <td>Paid</td>\n",
       "      <td>399.99</td>\n",
       "      <td>Everyone</td>\n",
       "      <td>Lifestyle</td>\n",
       "      <td>2018-01-12 00:00:00</td>\n",
       "      <td>2</td>\n",
       "      <td>4.0.3 and up</td>\n",
       "    </tr>\n",
       "    <tr>\n",
       "      <th>5366</th>\n",
       "      <td>I Am Rich</td>\n",
       "      <td>FAMILY</td>\n",
       "      <td>3.6</td>\n",
       "      <td>217</td>\n",
       "      <td>4.9M</td>\n",
       "      <td>10000</td>\n",
       "      <td>Paid</td>\n",
       "      <td>389.99</td>\n",
       "      <td>Everyone</td>\n",
       "      <td>Entertainment</td>\n",
       "      <td>2018-06-22 00:00:00</td>\n",
       "      <td>1.5</td>\n",
       "      <td>4.2 and up</td>\n",
       "    </tr>\n",
       "    <tr>\n",
       "      <th>5357</th>\n",
       "      <td>I am extremely Rich</td>\n",
       "      <td>LIFESTYLE</td>\n",
       "      <td>2.9</td>\n",
       "      <td>41</td>\n",
       "      <td>2.9M</td>\n",
       "      <td>1000</td>\n",
       "      <td>Paid</td>\n",
       "      <td>379.99</td>\n",
       "      <td>Everyone</td>\n",
       "      <td>Lifestyle</td>\n",
       "      <td>2018-07-01 00:00:00</td>\n",
       "      <td>1</td>\n",
       "      <td>4.0 and up</td>\n",
       "    </tr>\n",
       "    <tr>\n",
       "      <th>5355</th>\n",
       "      <td>I am rich VIP</td>\n",
       "      <td>LIFESTYLE</td>\n",
       "      <td>3.8</td>\n",
       "      <td>411</td>\n",
       "      <td>2.6M</td>\n",
       "      <td>10000</td>\n",
       "      <td>Paid</td>\n",
       "      <td>299.99</td>\n",
       "      <td>Everyone</td>\n",
       "      <td>Lifestyle</td>\n",
       "      <td>2018-07-21 00:00:00</td>\n",
       "      <td>1.1.1</td>\n",
       "      <td>4.3 and up</td>\n",
       "    </tr>\n",
       "  </tbody>\n",
       "</table>\n",
       "</div>"
      ],
      "text/plain": [
       "                                 App   Category  Rating Reviews  Size  \\\n",
       "4367        I'm Rich - Trump Edition  LIFESTYLE     3.6     275  7.3M   \n",
       "5358                      I am Rich!    FINANCE     3.8      93   22M   \n",
       "5373              I AM RICH PRO PLUS    FINANCE     4.0      36   41M   \n",
       "5369                       I am Rich    FINANCE     4.3     180  3.8M   \n",
       "4197          most expensive app (H)     FAMILY     4.3       6  1.5M   \n",
       "4362                   ðŸ’Ž I'm rich  LIFESTYLE     3.8     718   26M   \n",
       "5362                   I Am Rich Pro     FAMILY     4.4     201  2.7M   \n",
       "5359              I am rich(premium)    FINANCE     3.5     472  965k   \n",
       "5364  I am rich (Most expensive app)    FINANCE     4.1     129  2.7M   \n",
       "5356               I Am Rich Premium    FINANCE     4.1    1867  4.7M   \n",
       "5354                  I am Rich Plus     FAMILY     4.0     856  8.7M   \n",
       "5351                       I am rich  LIFESTYLE     3.8    3547  1.8M   \n",
       "5366                       I Am Rich     FAMILY     3.6     217  4.9M   \n",
       "5357             I am extremely Rich  LIFESTYLE     2.9      41  2.9M   \n",
       "5355                   I am rich VIP  LIFESTYLE     3.8     411  2.6M   \n",
       "\n",
       "     Installs  Type   Price Content Rating         Genres  \\\n",
       "4367    10000  Paid     400       Everyone      Lifestyle   \n",
       "5358     1000  Paid  399.99       Everyone        Finance   \n",
       "5373     1000  Paid  399.99       Everyone        Finance   \n",
       "5369     5000  Paid  399.99       Everyone        Finance   \n",
       "4197      100  Paid  399.99       Everyone  Entertainment   \n",
       "4362    10000  Paid  399.99       Everyone      Lifestyle   \n",
       "5362     5000  Paid  399.99       Everyone  Entertainment   \n",
       "5359     5000  Paid  399.99       Everyone        Finance   \n",
       "5364     1000  Paid  399.99           Teen        Finance   \n",
       "5356    50000  Paid  399.99       Everyone        Finance   \n",
       "5354    10000  Paid  399.99       Everyone  Entertainment   \n",
       "5351   100000  Paid  399.99       Everyone      Lifestyle   \n",
       "5366    10000  Paid  389.99       Everyone  Entertainment   \n",
       "5357     1000  Paid  379.99       Everyone      Lifestyle   \n",
       "5355    10000  Paid  299.99       Everyone      Lifestyle   \n",
       "\n",
       "             Last Updated Current Ver   Android Ver  \n",
       "4367  2018-05-03 00:00:00       1.0.1    4.1 and up  \n",
       "5358  2017-12-11 00:00:00           1    4.1 and up  \n",
       "5373  2018-06-25 00:00:00       1.0.2    4.1 and up  \n",
       "5369  2018-03-22 00:00:00           1    4.2 and up  \n",
       "4197  2018-07-16 00:00:00           1    7.0 and up  \n",
       "4362  2018-03-11 00:00:00       1.0.0    4.4 and up  \n",
       "5362  2017-05-30 00:00:00        1.54    1.6 and up  \n",
       "5359  2017-05-01 00:00:00         3.4    4.4 and up  \n",
       "5364  2017-12-06 00:00:00           2  4.0.3 and up  \n",
       "5356  2017-11-12 00:00:00         1.6    4.0 and up  \n",
       "5354  2018-05-19 00:00:00           3    4.4 and up  \n",
       "5351  2018-01-12 00:00:00           2  4.0.3 and up  \n",
       "5366  2018-06-22 00:00:00         1.5    4.2 and up  \n",
       "5357  2018-07-01 00:00:00           1    4.0 and up  \n",
       "5355  2018-07-21 00:00:00       1.1.1    4.3 and up  "
      ]
     },
     "execution_count": 24,
     "metadata": {},
     "output_type": "execute_result"
    }
   ],
   "source": [
    "#Sort values by Price, high to low\n",
    "aapps_df = aapps_df.sort_values('Price',ascending=False)\n",
    "#Show first five rows\n",
    "aapps_df.head(15)"
   ]
  },
  {
   "cell_type": "markdown",
   "metadata": {},
   "source": [
    "It appears that there are waaaaay too many apps that suggest that one is rich soley due to the fact that you can waste money on an app. Furthermore, there are far too many people who have downloaded and or reviewed them. Lets get rid of that data as it likely is skewing the price distribution."
   ]
  },
  {
   "cell_type": "code",
   "execution_count": 25,
   "metadata": {},
   "outputs": [],
   "source": [
    "#Remove anything above the 3rd standard devation\n",
    "stdevPrice = aapps_df['Price'].std()\n",
    "aapps_df = aapps_df[aapps_df[\"Price\"] < 3*stdevPrice]"
   ]
  },
  {
   "cell_type": "markdown",
   "metadata": {},
   "source": [
    "Now that that is complete, we need to make sure that our data is in the correct format. Lets convert the necessary columns to categorical or numerica data and then check that we have everything right."
   ]
  },
  {
   "cell_type": "code",
   "execution_count": 26,
   "metadata": {},
   "outputs": [
    {
     "name": "stdout",
     "output_type": "stream",
     "text": [
      "<class 'pandas.core.frame.DataFrame'>\n",
      "Int64Index: 9342 entries, 2414 to 10840\n",
      "Data columns (total 13 columns):\n",
      "App               9342 non-null object\n",
      "Category          9342 non-null category\n",
      "Rating            9342 non-null float64\n",
      "Reviews           9342 non-null int64\n",
      "Size              9342 non-null object\n",
      "Installs          9342 non-null int64\n",
      "Type              9342 non-null category\n",
      "Price             9342 non-null float64\n",
      "Content Rating    9342 non-null category\n",
      "Genres            9342 non-null category\n",
      "Last Updated      9342 non-null object\n",
      "Current Ver       9342 non-null object\n",
      "Android Ver       9342 non-null object\n",
      "dtypes: category(4), float64(2), int64(2), object(5)\n",
      "memory usage: 774.0+ KB\n"
     ]
    }
   ],
   "source": [
    "#Convert the data in each column to the correct types, numeric or categorical\n",
    "aapps_df[['Rating','Reviews','Installs','Price']] = aapps_df[['Rating','Reviews','Installs','Price']].apply(pd.to_numeric)\n",
    "aapps_df[['Category','Type','Content Rating', 'Genres']] = aapps_df[['Category','Type','Content Rating', 'Genres']].astype('category')\n",
    "#show each column and the data type for each\n",
    "aapps_df.info()"
   ]
  },
  {
   "cell_type": "markdown",
   "metadata": {},
   "source": [
    "Looks good. Now that our data is clean and ready, lets see what the numeric data looks like. "
   ]
  },
  {
   "cell_type": "code",
   "execution_count": 27,
   "metadata": {},
   "outputs": [
    {
     "data": {
      "text/html": [
       "<div>\n",
       "<style scoped>\n",
       "    .dataframe tbody tr th:only-of-type {\n",
       "        vertical-align: middle;\n",
       "    }\n",
       "\n",
       "    .dataframe tbody tr th {\n",
       "        vertical-align: top;\n",
       "    }\n",
       "\n",
       "    .dataframe thead th {\n",
       "        text-align: right;\n",
       "    }\n",
       "</style>\n",
       "<table border=\"1\" class=\"dataframe\">\n",
       "  <thead>\n",
       "    <tr style=\"text-align: right;\">\n",
       "      <th></th>\n",
       "      <th>Rating</th>\n",
       "      <th>Reviews</th>\n",
       "      <th>Installs</th>\n",
       "      <th>Price</th>\n",
       "    </tr>\n",
       "  </thead>\n",
       "  <tbody>\n",
       "    <tr>\n",
       "      <th>count</th>\n",
       "      <td>9342.000000</td>\n",
       "      <td>9.342000e+03</td>\n",
       "      <td>9.342000e+03</td>\n",
       "      <td>9342.000000</td>\n",
       "    </tr>\n",
       "    <tr>\n",
       "      <th>mean</th>\n",
       "      <td>4.192346</td>\n",
       "      <td>5.153668e+05</td>\n",
       "      <td>1.794323e+07</td>\n",
       "      <td>0.317676</td>\n",
       "    </tr>\n",
       "    <tr>\n",
       "      <th>std</th>\n",
       "      <td>0.515299</td>\n",
       "      <td>3.147971e+06</td>\n",
       "      <td>9.135087e+07</td>\n",
       "      <td>1.830645</td>\n",
       "    </tr>\n",
       "    <tr>\n",
       "      <th>min</th>\n",
       "      <td>1.000000</td>\n",
       "      <td>1.000000e+00</td>\n",
       "      <td>1.000000e+00</td>\n",
       "      <td>0.000000</td>\n",
       "    </tr>\n",
       "    <tr>\n",
       "      <th>25%</th>\n",
       "      <td>4.000000</td>\n",
       "      <td>1.872500e+02</td>\n",
       "      <td>1.000000e+04</td>\n",
       "      <td>0.000000</td>\n",
       "    </tr>\n",
       "    <tr>\n",
       "      <th>50%</th>\n",
       "      <td>4.300000</td>\n",
       "      <td>6.003500e+03</td>\n",
       "      <td>5.000000e+05</td>\n",
       "      <td>0.000000</td>\n",
       "    </tr>\n",
       "    <tr>\n",
       "      <th>75%</th>\n",
       "      <td>4.500000</td>\n",
       "      <td>8.238950e+04</td>\n",
       "      <td>5.000000e+06</td>\n",
       "      <td>0.000000</td>\n",
       "    </tr>\n",
       "    <tr>\n",
       "      <th>max</th>\n",
       "      <td>5.000000</td>\n",
       "      <td>7.815831e+07</td>\n",
       "      <td>1.000000e+09</td>\n",
       "      <td>39.990000</td>\n",
       "    </tr>\n",
       "  </tbody>\n",
       "</table>\n",
       "</div>"
      ],
      "text/plain": [
       "            Rating       Reviews      Installs        Price\n",
       "count  9342.000000  9.342000e+03  9.342000e+03  9342.000000\n",
       "mean      4.192346  5.153668e+05  1.794323e+07     0.317676\n",
       "std       0.515299  3.147971e+06  9.135087e+07     1.830645\n",
       "min       1.000000  1.000000e+00  1.000000e+00     0.000000\n",
       "25%       4.000000  1.872500e+02  1.000000e+04     0.000000\n",
       "50%       4.300000  6.003500e+03  5.000000e+05     0.000000\n",
       "75%       4.500000  8.238950e+04  5.000000e+06     0.000000\n",
       "max       5.000000  7.815831e+07  1.000000e+09    39.990000"
      ]
     },
     "execution_count": 27,
     "metadata": {},
     "output_type": "execute_result"
    }
   ],
   "source": [
    "#Describe the data in each column\n",
    "aapps_df.describe()"
   ]
  },
  {
   "cell_type": "markdown",
   "metadata": {},
   "source": [
    "I have a bit of a theory that the category and price may have to do with the rating. So I'm creating a pivot table and checking the top five categories by rating and seeing if anything pops out at me."
   ]
  },
  {
   "cell_type": "code",
   "execution_count": 28,
   "metadata": {},
   "outputs": [
    {
     "data": {
      "text/html": [
       "<div>\n",
       "<style scoped>\n",
       "    .dataframe tbody tr th:only-of-type {\n",
       "        vertical-align: middle;\n",
       "    }\n",
       "\n",
       "    .dataframe tbody tr th {\n",
       "        vertical-align: top;\n",
       "    }\n",
       "\n",
       "    .dataframe thead th {\n",
       "        text-align: right;\n",
       "    }\n",
       "</style>\n",
       "<table border=\"1\" class=\"dataframe\">\n",
       "  <thead>\n",
       "    <tr style=\"text-align: right;\">\n",
       "      <th></th>\n",
       "      <th>Price</th>\n",
       "      <th>Rating</th>\n",
       "    </tr>\n",
       "    <tr>\n",
       "      <th>Category</th>\n",
       "      <th></th>\n",
       "      <th></th>\n",
       "    </tr>\n",
       "  </thead>\n",
       "  <tbody>\n",
       "    <tr>\n",
       "      <th>EVENTS</th>\n",
       "      <td>0.000000</td>\n",
       "      <td>4.435556</td>\n",
       "    </tr>\n",
       "    <tr>\n",
       "      <th>EDUCATION</th>\n",
       "      <td>0.115871</td>\n",
       "      <td>4.389032</td>\n",
       "    </tr>\n",
       "    <tr>\n",
       "      <th>ART_AND_DESIGN</th>\n",
       "      <td>0.097869</td>\n",
       "      <td>4.377049</td>\n",
       "    </tr>\n",
       "    <tr>\n",
       "      <th>BOOKS_AND_REFERENCE</th>\n",
       "      <td>0.134157</td>\n",
       "      <td>4.346067</td>\n",
       "    </tr>\n",
       "    <tr>\n",
       "      <th>PERSONALIZATION</th>\n",
       "      <td>0.404712</td>\n",
       "      <td>4.335256</td>\n",
       "    </tr>\n",
       "  </tbody>\n",
       "</table>\n",
       "</div>"
      ],
      "text/plain": [
       "                        Price    Rating\n",
       "Category                               \n",
       "EVENTS               0.000000  4.435556\n",
       "EDUCATION            0.115871  4.389032\n",
       "ART_AND_DESIGN       0.097869  4.377049\n",
       "BOOKS_AND_REFERENCE  0.134157  4.346067\n",
       "PERSONALIZATION      0.404712  4.335256"
      ]
     },
     "execution_count": 28,
     "metadata": {},
     "output_type": "execute_result"
    }
   ],
   "source": [
    "#Create Pivot table with average Rating and Price for each app category and sort by price\n",
    "toptable1 = aapps_df.pivot_table(['Rating','Price'],'Category')\n",
    "toptable1 = toptable1.sort_values('Rating', ascending=False)\n",
    "#Print top five rows of pivot table\n",
    "toptable1.head(5)"
   ]
  },
  {
   "cell_type": "markdown",
   "metadata": {},
   "source": [
    "I'm not seeing anything that really suggests a connection there, but I also can't see all of the categories. So I'm going to plot them on a scatterplot and see if there is any correlation."
   ]
  },
  {
   "cell_type": "code",
   "execution_count": 29,
   "metadata": {},
   "outputs": [
    {
     "data": {
      "text/plain": [
       "Text(0.5,1,'Average Price and Rating by Category')"
      ]
     },
     "execution_count": 29,
     "metadata": {},
     "output_type": "execute_result"
    },
    {
     "data": {
      "image/png": "[encoded data removed]",
      "text/plain": [
       "<Figure size 432x288 with 1 Axes>"
      ]
     },
     "metadata": {},
     "output_type": "display_data"
    }
   ],
   "source": [
    "#show scatter plot of average rating and price for each category with regression line\n",
    "sns.regplot('Price','Rating',toptable1,scatter_kws= {'alpha': 0.4},line_kws={'color':'red'})\n",
    "plt.title('Average Price and Rating by Category')"
   ]
  },
  {
   "cell_type": "markdown",
   "metadata": {},
   "source": [
    "Looks like that was a bit of a bust. But maybe I've looked too deep before trying to see the whole picture. I'm going to look at the distribution of all ratings vs all prices and see what becomes more apparent."
   ]
  },
  {
   "cell_type": "code",
   "execution_count": 30,
   "metadata": {},
   "outputs": [
    {
     "name": "stderr",
     "output_type": "stream",
     "text": [
      "C:\\Users\\zgeorge\\AppData\\Local\\Continuum\\anaconda3\\lib\\site-packages\\matplotlib\\axes\\_axes.py:6462: UserWarning: The 'normed' kwarg is deprecated, and has been replaced by the 'density' kwarg.\n",
      "  warnings.warn(\"The 'normed' kwarg is deprecated, and has been \"\n",
      "C:\\Users\\zgeorge\\AppData\\Local\\Continuum\\anaconda3\\lib\\site-packages\\matplotlib\\axes\\_axes.py:6462: UserWarning: The 'normed' kwarg is deprecated, and has been replaced by the 'density' kwarg.\n",
      "  warnings.warn(\"The 'normed' kwarg is deprecated, and has been \"\n"
     ]
    },
    {
     "data": {
      "text/plain": [
       "Text(4.5,1.2,'All Price and Ratings & their Distributions')"
      ]
     },
     "execution_count": 30,
     "metadata": {},
     "output_type": "execute_result"
    },
    {
     "data": {
      "image/png": "[encoded data removed]",
      "text/plain": [
       "<Figure size 432x432 with 3 Axes>"
      ]
     },
     "metadata": {},
     "output_type": "display_data"
    }
   ],
   "source": [
    "#Create joint plot from Price and Rating data\n",
    "joint1 = sns.jointplot('Price','Rating',aapps_df,joint_kws= {'alpha': 0.4},)\n",
    "#Create regression plot from same data, then overlap plots\n",
    "joint2=sns.regplot('Price','Rating',aapps_df, ax=joint1.ax_joint, scatter=False,color='purple')\n",
    "#despine\n",
    "sns.despine()\n",
    "#Place title on graph\n",
    "joint2.text(4.5, 1.2, \"All Price and Ratings & their Distributions\", horizontalalignment='left', size='medium', color='black', weight='semibold')"
   ]
  },
  {
   "cell_type": "markdown",
   "metadata": {},
   "source": [
    "We can see from the plot above that the majority of the ratings are between 5-3.5, fairly well centered on ~4.25. Then, the vast majority of the applications cost less than five dollars. There isn't a strong correlation between price and rating, but there is a slight upward trend. With so many free apps, that could potentially be affecting the distributions, so lets separate the free from the paid applications and see if the regression lines are different at this point. However, since we are doing free vs. paide, we will plot rating against number of reviews, to see if perhaps the cost affects the number of reviews pr the rating in any way."
   ]
  },
  {
   "cell_type": "code",
   "execution_count": 31,
   "metadata": {},
   "outputs": [
    {
     "data": {
      "text/plain": [
       "(0, 5)"
      ]
     },
     "execution_count": 31,
     "metadata": {},
     "output_type": "execute_result"
    },
    {
     "data": {
      "image/png": "[encoded data removed]",
      "text/plain": [
       "<Figure size 418.125x360 with 1 Axes>"
      ]
     },
     "metadata": {},
     "output_type": "display_data"
    }
   ],
   "source": [
    "#Set palatte to muted\n",
    "sns.color_palette(palette='muted')\n",
    "#Create lmplot of Reviews and Ratings based on whether app is paid or not\n",
    "sns.lmplot('Reviews','Rating',aapps_df,scatter_kws={'alpha':0.3}, markers=',',hue='Type')\n",
    "#despine the plot\n",
    "sns.despine()\n",
    "#Set the Title of the graph from here\n",
    "plt.title('Ratings based on Reviews by Paid App')\n",
    "#Set the y-axis limits to a max of 5\n",
    "plt.ylim(0,5)\n"
   ]
  },
  {
   "cell_type": "markdown",
   "metadata": {},
   "source": [
    "From this graph, we can clearly see that there are far fewer reviews on the paid applications, and yet they tend to have a much higher rating per review ratio. In other words, if you want to build an app that gets high ratings without having to have as many reviews, make it paid. This likely is because people who pay for an app communicate to the developer through ratings, and if the developer is listening, they have a great incentive to fix the issues in the app."
   ]
  },
  {
   "cell_type": "markdown",
   "metadata": {},
   "source": [
    "## Section 3: Prescription Data"
   ]
  },
  {
   "cell_type": "markdown",
   "metadata": {},
   "source": [
    "The opioid addiction in America is at a crisis point, and it is essential that we determine what variables are correlated with a doctor prescribing so many opioids. Although we will not be diving into that question today, we will focus on a broader scope: why do certain doctors prescribe more pills than other doctors?\n",
    "\n",
    "We first need to read in our data that we found on Kaggle. It is in JSON and we will be reading it into our pandas dataframe."
   ]
  },
  {
   "cell_type": "code",
   "execution_count": 32,
   "metadata": {},
   "outputs": [
    {
     "data": {
      "text/html": [
       "<div>\n",
       "<style scoped>\n",
       "    .dataframe tbody tr th:only-of-type {\n",
       "        vertical-align: middle;\n",
       "    }\n",
       "\n",
       "    .dataframe tbody tr th {\n",
       "        vertical-align: top;\n",
       "    }\n",
       "\n",
       "    .dataframe thead th {\n",
       "        text-align: right;\n",
       "    }\n",
       "</style>\n",
       "<table border=\"1\" class=\"dataframe\">\n",
       "  <thead>\n",
       "    <tr style=\"text-align: right;\">\n",
       "      <th></th>\n",
       "      <th>cms_prescription_counts</th>\n",
       "      <th>npi</th>\n",
       "      <th>provider_variables</th>\n",
       "    </tr>\n",
       "  </thead>\n",
       "  <tbody>\n",
       "    <tr>\n",
       "      <th>0</th>\n",
       "      <td>{'DOXAZOSIN MESYLATE': 26, 'MIDODRINE HCL': 12...</td>\n",
       "      <td>1295763035</td>\n",
       "      <td>{'settlement_type': 'non-urban', 'generic_rx_c...</td>\n",
       "    </tr>\n",
       "    <tr>\n",
       "      <th>1</th>\n",
       "      <td>{'CEPHALEXIN': 23, 'AMOXICILLIN': 52, 'HYDROCO...</td>\n",
       "      <td>1992715205</td>\n",
       "      <td>{'settlement_type': 'non-urban', 'generic_rx_c...</td>\n",
       "    </tr>\n",
       "    <tr>\n",
       "      <th>2</th>\n",
       "      <td>{'CEPHALEXIN': 28, 'AMOXICILLIN': 73, 'CLINDAM...</td>\n",
       "      <td>1578587630</td>\n",
       "      <td>{'settlement_type': 'non-urban', 'generic_rx_c...</td>\n",
       "    </tr>\n",
       "    <tr>\n",
       "      <th>3</th>\n",
       "      <td>{'AMOXICILLIN': 63}</td>\n",
       "      <td>1932278405</td>\n",
       "      <td>{'settlement_type': 'non-urban', 'generic_rx_c...</td>\n",
       "    </tr>\n",
       "    <tr>\n",
       "      <th>4</th>\n",
       "      <td>{'PIOGLITAZONE HCL': 24, 'BENAZEPRIL HCL': 29,...</td>\n",
       "      <td>1437366804</td>\n",
       "      <td>{'settlement_type': 'non-urban', 'generic_rx_c...</td>\n",
       "    </tr>\n",
       "  </tbody>\n",
       "</table>\n",
       "</div>"
      ],
      "text/plain": [
       "                             cms_prescription_counts         npi  \\\n",
       "0  {'DOXAZOSIN MESYLATE': 26, 'MIDODRINE HCL': 12...  1295763035   \n",
       "1  {'CEPHALEXIN': 23, 'AMOXICILLIN': 52, 'HYDROCO...  1992715205   \n",
       "2  {'CEPHALEXIN': 28, 'AMOXICILLIN': 73, 'CLINDAM...  1578587630   \n",
       "3                                {'AMOXICILLIN': 63}  1932278405   \n",
       "4  {'PIOGLITAZONE HCL': 24, 'BENAZEPRIL HCL': 29,...  1437366804   \n",
       "\n",
       "                                  provider_variables  \n",
       "0  {'settlement_type': 'non-urban', 'generic_rx_c...  \n",
       "1  {'settlement_type': 'non-urban', 'generic_rx_c...  \n",
       "2  {'settlement_type': 'non-urban', 'generic_rx_c...  \n",
       "3  {'settlement_type': 'non-urban', 'generic_rx_c...  \n",
       "4  {'settlement_type': 'non-urban', 'generic_rx_c...  "
      ]
     },
     "execution_count": 32,
     "metadata": {},
     "output_type": "execute_result"
    }
   ],
   "source": [
    "#Read in the Json\n",
    "rxdata = pd.read_json(r\"C:\\Users\\zgeorge\\Dropbox (CMN Hospitals)\\George\\School\\Fall 2018\\Applied Machine Learning\\practice_python\\Homework 1\\roam_prescription_based_prediction.jsonl\",lines=True)\n",
    "#Print the first five rows of the json data\n",
    "rxdata.head(5)"
   ]
  },
  {
   "cell_type": "markdown",
   "metadata": {},
   "source": [
    "Because of the focus of our investigation, namely into the providers, we will be using only the provider variables. We will flatten and normalize them, then use them as our dataframe. This will allow us to focus on them alone."
   ]
  },
  {
   "cell_type": "code",
   "execution_count": 33,
   "metadata": {},
   "outputs": [
    {
     "data": {
      "text/html": [
       "<div>\n",
       "<style scoped>\n",
       "    .dataframe tbody tr th:only-of-type {\n",
       "        vertical-align: middle;\n",
       "    }\n",
       "\n",
       "    .dataframe tbody tr th {\n",
       "        vertical-align: top;\n",
       "    }\n",
       "\n",
       "    .dataframe thead th {\n",
       "        text-align: right;\n",
       "    }\n",
       "</style>\n",
       "<table border=\"1\" class=\"dataframe\">\n",
       "  <thead>\n",
       "    <tr style=\"text-align: right;\">\n",
       "      <th></th>\n",
       "      <th>brand_name_rx_count</th>\n",
       "      <th>gender</th>\n",
       "      <th>generic_rx_count</th>\n",
       "      <th>region</th>\n",
       "      <th>settlement_type</th>\n",
       "      <th>specialty</th>\n",
       "      <th>years_practicing</th>\n",
       "    </tr>\n",
       "  </thead>\n",
       "  <tbody>\n",
       "    <tr>\n",
       "      <th>0</th>\n",
       "      <td>384</td>\n",
       "      <td>M</td>\n",
       "      <td>2287</td>\n",
       "      <td>South</td>\n",
       "      <td>non-urban</td>\n",
       "      <td>Nephrology</td>\n",
       "      <td>7</td>\n",
       "    </tr>\n",
       "    <tr>\n",
       "      <th>1</th>\n",
       "      <td>0</td>\n",
       "      <td>M</td>\n",
       "      <td>103</td>\n",
       "      <td>South</td>\n",
       "      <td>non-urban</td>\n",
       "      <td>General Practice</td>\n",
       "      <td>7</td>\n",
       "    </tr>\n",
       "    <tr>\n",
       "      <th>2</th>\n",
       "      <td>0</td>\n",
       "      <td>M</td>\n",
       "      <td>112</td>\n",
       "      <td>Midwest</td>\n",
       "      <td>non-urban</td>\n",
       "      <td>General Practice</td>\n",
       "      <td>7</td>\n",
       "    </tr>\n",
       "    <tr>\n",
       "      <th>3</th>\n",
       "      <td>0</td>\n",
       "      <td>M</td>\n",
       "      <td>63</td>\n",
       "      <td>South</td>\n",
       "      <td>non-urban</td>\n",
       "      <td>General Practice</td>\n",
       "      <td>7</td>\n",
       "    </tr>\n",
       "    <tr>\n",
       "      <th>4</th>\n",
       "      <td>316</td>\n",
       "      <td>M</td>\n",
       "      <td>1035</td>\n",
       "      <td>West</td>\n",
       "      <td>non-urban</td>\n",
       "      <td>Nephrology</td>\n",
       "      <td>6</td>\n",
       "    </tr>\n",
       "  </tbody>\n",
       "</table>\n",
       "</div>"
      ],
      "text/plain": [
       "   brand_name_rx_count gender  generic_rx_count   region settlement_type  \\\n",
       "0                  384      M              2287    South       non-urban   \n",
       "1                    0      M               103    South       non-urban   \n",
       "2                    0      M               112  Midwest       non-urban   \n",
       "3                    0      M                63    South       non-urban   \n",
       "4                  316      M              1035     West       non-urban   \n",
       "\n",
       "          specialty  years_practicing  \n",
       "0        Nephrology                 7  \n",
       "1  General Practice                 7  \n",
       "2  General Practice                 7  \n",
       "3  General Practice                 7  \n",
       "4        Nephrology                 6  "
      ]
     },
     "execution_count": 33,
     "metadata": {},
     "output_type": "execute_result"
    }
   ],
   "source": [
    "#Select only the provider data and flatten it\n",
    "provider_data = json_normalize(data=rxdata['provider_variables'])\n",
    "#Read the data into a dataframe\n",
    "prvd_df = pd.DataFrame(provider_data)\n",
    "#display top five rows\n",
    "prvd_df.head(5)"
   ]
  },
  {
   "cell_type": "markdown",
   "metadata": {},
   "source": [
    "We need to clean the data, but first we will make sure that the data is all the correct type so that we can later analyze it."
   ]
  },
  {
   "cell_type": "code",
   "execution_count": 34,
   "metadata": {},
   "outputs": [
    {
     "name": "stdout",
     "output_type": "stream",
     "text": [
      "<class 'pandas.core.frame.DataFrame'>\n",
      "RangeIndex: 239930 entries, 0 to 239929\n",
      "Data columns (total 7 columns):\n",
      "brand_name_rx_count    239930 non-null int64\n",
      "gender                 239930 non-null category\n",
      "generic_rx_count       239930 non-null int64\n",
      "region                 239930 non-null category\n",
      "settlement_type        239930 non-null category\n",
      "specialty              239930 non-null category\n",
      "years_practicing       239930 non-null int64\n",
      "dtypes: category(4), int64(3)\n",
      "memory usage: 6.6 MB\n"
     ]
    }
   ],
   "source": [
    "#Reassign columns to the correct type of data and display data type by column\n",
    "prvd_df[['region','gender','settlement_type', 'specialty']] = prvd_df[['region','gender','settlement_type', 'specialty']].astype('category')\n",
    "prvd_df.info()"
   ]
  },
  {
   "cell_type": "markdown",
   "metadata": {},
   "source": [
    "Now let's describe the data to ensure that there aren't any nulls or other issues."
   ]
  },
  {
   "cell_type": "code",
   "execution_count": 35,
   "metadata": {},
   "outputs": [
    {
     "data": {
      "text/html": [
       "<div>\n",
       "<style scoped>\n",
       "    .dataframe tbody tr th:only-of-type {\n",
       "        vertical-align: middle;\n",
       "    }\n",
       "\n",
       "    .dataframe tbody tr th {\n",
       "        vertical-align: top;\n",
       "    }\n",
       "\n",
       "    .dataframe thead th {\n",
       "        text-align: right;\n",
       "    }\n",
       "</style>\n",
       "<table border=\"1\" class=\"dataframe\">\n",
       "  <thead>\n",
       "    <tr style=\"text-align: right;\">\n",
       "      <th></th>\n",
       "      <th>brand_name_rx_count</th>\n",
       "      <th>generic_rx_count</th>\n",
       "      <th>years_practicing</th>\n",
       "    </tr>\n",
       "  </thead>\n",
       "  <tbody>\n",
       "    <tr>\n",
       "      <th>count</th>\n",
       "      <td>239930.000000</td>\n",
       "      <td>239930.000000</td>\n",
       "      <td>239930.000000</td>\n",
       "    </tr>\n",
       "    <tr>\n",
       "      <th>mean</th>\n",
       "      <td>176.264144</td>\n",
       "      <td>795.547047</td>\n",
       "      <td>6.241875</td>\n",
       "    </tr>\n",
       "    <tr>\n",
       "      <th>std</th>\n",
       "      <td>475.159281</td>\n",
       "      <td>1809.618284</td>\n",
       "      <td>1.649269</td>\n",
       "    </tr>\n",
       "    <tr>\n",
       "      <th>min</th>\n",
       "      <td>0.000000</td>\n",
       "      <td>0.000000</td>\n",
       "      <td>1.000000</td>\n",
       "    </tr>\n",
       "    <tr>\n",
       "      <th>25%</th>\n",
       "      <td>0.000000</td>\n",
       "      <td>36.000000</td>\n",
       "      <td>6.000000</td>\n",
       "    </tr>\n",
       "    <tr>\n",
       "      <th>50%</th>\n",
       "      <td>15.000000</td>\n",
       "      <td>145.000000</td>\n",
       "      <td>7.000000</td>\n",
       "    </tr>\n",
       "    <tr>\n",
       "      <th>75%</th>\n",
       "      <td>154.000000</td>\n",
       "      <td>750.000000</td>\n",
       "      <td>7.000000</td>\n",
       "    </tr>\n",
       "    <tr>\n",
       "      <th>max</th>\n",
       "      <td>30547.000000</td>\n",
       "      <td>101079.000000</td>\n",
       "      <td>8.000000</td>\n",
       "    </tr>\n",
       "  </tbody>\n",
       "</table>\n",
       "</div>"
      ],
      "text/plain": [
       "       brand_name_rx_count  generic_rx_count  years_practicing\n",
       "count        239930.000000     239930.000000     239930.000000\n",
       "mean            176.264144        795.547047          6.241875\n",
       "std             475.159281       1809.618284          1.649269\n",
       "min               0.000000          0.000000          1.000000\n",
       "25%               0.000000         36.000000          6.000000\n",
       "50%              15.000000        145.000000          7.000000\n",
       "75%             154.000000        750.000000          7.000000\n",
       "max           30547.000000     101079.000000          8.000000"
      ]
     },
     "execution_count": 35,
     "metadata": {},
     "output_type": "execute_result"
    }
   ],
   "source": [
    "#describe the dataset\n",
    "prvd_df.describe()"
   ]
  },
  {
   "cell_type": "markdown",
   "metadata": {},
   "source": [
    "We look good, but the max is so much higher than the median that this concerns me. Lets visualize what that looks like. "
   ]
  },
  {
   "cell_type": "code",
   "execution_count": 36,
   "metadata": {},
   "outputs": [
    {
     "data": {
      "text/plain": [
       "Text(0.5,1,'Potential Outliers in Provider Data')"
      ]
     },
     "execution_count": 36,
     "metadata": {},
     "output_type": "execute_result"
    },
    {
     "data": {
      "image/png": "[encoded data removed]",
      "text/plain": [
       "<Figure size 432x288 with 1 Axes>"
      ]
     },
     "metadata": {},
     "output_type": "display_data"
    }
   ],
   "source": [
    "#display box and whisker chart for all numeric\n",
    "bncountbox = prvd_df.plot(kind=\"box\")\n",
    "plt.title('Potential Outliers in Provider Data')"
   ]
  },
  {
   "cell_type": "markdown",
   "metadata": {},
   "source": [
    "There are an astronomical amount of outliers. Let's find out just how many there are."
   ]
  },
  {
   "cell_type": "code",
   "execution_count": 37,
   "metadata": {},
   "outputs": [
    {
     "ename": "NameError",
     "evalue": "name 'q_df' is not defined",
     "output_type": "error",
     "traceback": [
      "\u001b[1;31m---------------------------------------------------------------------------\u001b[0m",
      "\u001b[1;31mNameError\u001b[0m                                 Traceback (most recent call last)",
      "\u001b[1;32m<ipython-input-37-dea61907ce80>\u001b[0m in \u001b[0;36m<module>\u001b[1;34m()\u001b[0m\n\u001b[0;32m      1\u001b[0m \u001b[1;31m#Print the number of outlers in the brand name perscriptions\u001b[0m\u001b[1;33m\u001b[0m\u001b[1;33m\u001b[0m\u001b[0m\n\u001b[1;32m----> 2\u001b[1;33m \u001b[0mmax_outlier_bnrxcount\u001b[0m \u001b[1;33m=\u001b[0m \u001b[1;33m[\u001b[0m\u001b[0mbrandnames\u001b[0m \u001b[1;32mfor\u001b[0m \u001b[0mbrandnames\u001b[0m \u001b[1;32min\u001b[0m \u001b[0mprvd_df\u001b[0m\u001b[1;33m[\u001b[0m\u001b[1;34m'brand_name_rx_count'\u001b[0m\u001b[1;33m]\u001b[0m \u001b[1;32mif\u001b[0m \u001b[0mbrandnames\u001b[0m \u001b[1;33m>\u001b[0m \u001b[0mq_df\u001b[0m\u001b[1;33m[\u001b[0m\u001b[1;34m'brand_name_rx_count'\u001b[0m\u001b[1;33m]\u001b[0m\u001b[1;33m.\u001b[0m\u001b[0mloc\u001b[0m\u001b[1;33m[\u001b[0m\u001b[1;34m'max_whisker'\u001b[0m\u001b[1;33m]\u001b[0m\u001b[1;33m]\u001b[0m\u001b[1;33m\u001b[0m\u001b[0m\n\u001b[0m\u001b[0;32m      3\u001b[0m \u001b[0mprint\u001b[0m\u001b[1;33m(\u001b[0m\u001b[1;34m\"brand_name_rx_count Outliers\"\u001b[0m\u001b[1;33m)\u001b[0m\u001b[1;33m\u001b[0m\u001b[0m\n\u001b[0;32m      4\u001b[0m \u001b[0mprint\u001b[0m\u001b[1;33m(\u001b[0m\u001b[0mlen\u001b[0m\u001b[1;33m(\u001b[0m\u001b[0mmax_outlier_bnrxcount\u001b[0m\u001b[1;33m)\u001b[0m\u001b[1;33m)\u001b[0m\u001b[1;33m\u001b[0m\u001b[0m\n\u001b[0;32m      5\u001b[0m \u001b[1;31m#Print the number of outlers in the brand name perscriptions\u001b[0m\u001b[1;33m\u001b[0m\u001b[1;33m\u001b[0m\u001b[0m\n",
      "\u001b[1;32m<ipython-input-37-dea61907ce80>\u001b[0m in \u001b[0;36m<listcomp>\u001b[1;34m(.0)\u001b[0m\n\u001b[0;32m      1\u001b[0m \u001b[1;31m#Print the number of outlers in the brand name perscriptions\u001b[0m\u001b[1;33m\u001b[0m\u001b[1;33m\u001b[0m\u001b[0m\n\u001b[1;32m----> 2\u001b[1;33m \u001b[0mmax_outlier_bnrxcount\u001b[0m \u001b[1;33m=\u001b[0m \u001b[1;33m[\u001b[0m\u001b[0mbrandnames\u001b[0m \u001b[1;32mfor\u001b[0m \u001b[0mbrandnames\u001b[0m \u001b[1;32min\u001b[0m \u001b[0mprvd_df\u001b[0m\u001b[1;33m[\u001b[0m\u001b[1;34m'brand_name_rx_count'\u001b[0m\u001b[1;33m]\u001b[0m \u001b[1;32mif\u001b[0m \u001b[0mbrandnames\u001b[0m \u001b[1;33m>\u001b[0m \u001b[0mq_df\u001b[0m\u001b[1;33m[\u001b[0m\u001b[1;34m'brand_name_rx_count'\u001b[0m\u001b[1;33m]\u001b[0m\u001b[1;33m.\u001b[0m\u001b[0mloc\u001b[0m\u001b[1;33m[\u001b[0m\u001b[1;34m'max_whisker'\u001b[0m\u001b[1;33m]\u001b[0m\u001b[1;33m]\u001b[0m\u001b[1;33m\u001b[0m\u001b[0m\n\u001b[0m\u001b[0;32m      3\u001b[0m \u001b[0mprint\u001b[0m\u001b[1;33m(\u001b[0m\u001b[1;34m\"brand_name_rx_count Outliers\"\u001b[0m\u001b[1;33m)\u001b[0m\u001b[1;33m\u001b[0m\u001b[0m\n\u001b[0;32m      4\u001b[0m \u001b[0mprint\u001b[0m\u001b[1;33m(\u001b[0m\u001b[0mlen\u001b[0m\u001b[1;33m(\u001b[0m\u001b[0mmax_outlier_bnrxcount\u001b[0m\u001b[1;33m)\u001b[0m\u001b[1;33m)\u001b[0m\u001b[1;33m\u001b[0m\u001b[0m\n\u001b[0;32m      5\u001b[0m \u001b[1;31m#Print the number of outlers in the brand name perscriptions\u001b[0m\u001b[1;33m\u001b[0m\u001b[1;33m\u001b[0m\u001b[0m\n",
      "\u001b[1;31mNameError\u001b[0m: name 'q_df' is not defined"
     ]
    }
   ],
   "source": [
    "#Print the number of outlers in the brand name perscriptions\n",
    "max_outlier_bnrxcount = [brandnames for brandnames in prvd_df['brand_name_rx_count'] if brandnames > q_df['brand_name_rx_count'].loc['max_whisker']]\n",
    "print(\"brand_name_rx_count Outliers\")\n",
    "print(len(max_outlier_bnrxcount))\n",
    "#Print the number of outlers in the brand name perscriptions\n",
    "max_outlier_genrxcount = [generics for generics in prvd_df['generic_rx_count'] if generics > q_df['generic_rx_count'].loc['max_whisker']]\n",
    "print(\"generic_rx_count Outliers\")\n",
    "print(len(max_outlier_genrxcount))"
   ]
  },
  {
   "cell_type": "markdown",
   "metadata": {},
   "source": [
    "Although we would normally drop them, these are not incorrectly identified, and we are interested in seeing what causes them to be so high. Another couple of variables we are interested in are the ratio of Brand name to generic prescriptions written, as perhaps doctors are getting kickbacks from Big Pharma, and lastly what is the total amount of prescriptions written. So lets make those two new variables and add them to our dataframe."
   ]
  },
  {
   "cell_type": "code",
   "execution_count": null,
   "metadata": {},
   "outputs": [],
   "source": [
    "#Create a new column in the df that is a ratio of brand name prescriptions to generic perscriptions\n",
    "prvd_df['bn_to_gen'] = prvd_df['brand_name_rx_count'] / prvd_df['generic_rx_count']\n",
    "#Create a new column in the df that is a total count of prescriptions\n",
    "prvd_df['total_rx_count'] = prvd_df['brand_name_rx_count'] + prvd_df['generic_rx_count']\n",
    "#Print first 5 rows of dataframe with new columns\n",
    "prvd_df.head(5)"
   ]
  },
  {
   "cell_type": "markdown",
   "metadata": {},
   "source": [
    "Now that our dataframe is ready, lets go ahead and see if any correlations emerge."
   ]
  },
  {
   "cell_type": "code",
   "execution_count": null,
   "metadata": {},
   "outputs": [],
   "source": [
    "#Print correlation between each variable\n",
    "prvd_df.corr()"
   ]
  },
  {
   "cell_type": "markdown",
   "metadata": {},
   "source": [
    "Nothing in particular pops out of the correlation analysis. Perhaps we can feel confident that Big Pharma isn't the main reason as the correlation between total prescriptions and generic prescriptions is so high. However, because there has been a large push on reducing the number of prescriptions given out in the last several years, lets check there first."
   ]
  },
  {
   "cell_type": "code",
   "execution_count": null,
   "metadata": {},
   "outputs": [],
   "source": [
    "plot = sns.regplot('years_practicing','total_rx_count',prvd_df)\n",
    "plt.title('Total Prescriptions handed out by Years Practicing')\n",
    "sns.despine()"
   ]
  },
  {
   "cell_type": "markdown",
   "metadata": {},
   "source": [
    "This plot gives a pretty convincing argument, but maybe there is more to the story. Lets add in gender and see if it paints a different picture."
   ]
  },
  {
   "cell_type": "code",
   "execution_count": null,
   "metadata": {},
   "outputs": [],
   "source": [
    "plot = sns.lmplot('years_practicing','total_rx_count',prvd_df,hue='gender')\n",
    "plt.title('Total Prescriptions by Years Practicing & Gender')"
   ]
  },
  {
   "cell_type": "markdown",
   "metadata": {},
   "source": [
    "This doesn't appear to strongly change the correlation. What if we tested for the area of the country?"
   ]
  },
  {
   "cell_type": "code",
   "execution_count": null,
   "metadata": {},
   "outputs": [],
   "source": [
    "plot = sns.lmplot('years_practicing','total_rx_count',prvd_df,hue='region')\n",
    "plt.title('Total Prescriptions by Years Practicing & Practice Region')"
   ]
  },
  {
   "cell_type": "markdown",
   "metadata": {},
   "source": [
    "Again, not much more information. For our last try, let's look at the environment in which the practicioner is prescribing and see if there is any noticable effects."
   ]
  },
  {
   "cell_type": "code",
   "execution_count": null,
   "metadata": {},
   "outputs": [],
   "source": [
    "plot = sns.lmplot('years_practicing','total_rx_count',prvd_df,hue='settlement_type')\n",
    "plt.title('Total Prescriptions by Years Practicing & Practice Eviron')"
   ]
  },
  {
   "cell_type": "markdown",
   "metadata": {},
   "source": [
    "One noticable aspect of this chart is that the top provider in almost every year is in a non-urban environment. More analysis would have to be proformed to conclusively decided that this is an important aspect. However, as we can see, the seemingly most important aspect of the those that are providing too many prescriptions is the amount of years that they have been practicing. We cannot say conclusively that this is due to the practice of teaching to provide fewer prescriptions, but the initial analysis suggests that those who have been in school more recently, provide fewer prescriptions."
   ]
  },
  {
   "cell_type": "code",
   "execution_count": null,
   "metadata": {},
   "outputs": [],
   "source": []
  }
 ],
 "metadata": {
  "kernelspec": {
   "display_name": "Python 3",
   "language": "python",
   "name": "python3"
  },
  "language_info": {
   "codemirror_mode": {
    "name": "ipython",
    "version": 3
   },
   "file_extension": ".py",
   "mimetype": "text/x-python",
   "name": "python",
   "nbconvert_exporter": "python",
   "pygments_lexer": "ipython3",
   "version": "3.6.5"
  }
 },
 "nbformat": 4,
 "nbformat_minor": 2
}
