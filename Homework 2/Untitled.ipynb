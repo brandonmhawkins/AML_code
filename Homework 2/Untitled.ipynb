{
 "cells": [
  {
   "cell_type": "markdown",
   "metadata": {},
   "source": [
    "# How to do well on Homework 2\n",
    "## Get it on the map\n",
    "1. Analyze Target\n",
    "2. Correct the data\n",
    "3. Know the data (understand what each of the variables are)\n",
    "4. Describe (outliers, missing data)\n",
    "5. Clean it\n",
    "6. Train/Test Split (80/20 rule)\n",
    "7. Model (at least 3)\n",
    "## Improve score\n",
    "8. Feature Engineering\n",
    "9. Hyper Parameters\n",
    "10. Do it again"
   ]
  },
  {
   "cell_type": "code",
   "execution_count": null,
   "metadata": {},
   "outputs": [],
   "source": []
  }
 ],
 "metadata": {
  "kernelspec": {
   "display_name": "Python 3",
   "language": "python",
   "name": "python3"
  },
  "language_info": {
   "codemirror_mode": {
    "name": "ipython",
    "version": 3
   },
   "file_extension": ".py",
   "mimetype": "text/x-python",
   "name": "python",
   "nbconvert_exporter": "python",
   "pygments_lexer": "ipython3",
   "version": "3.6.5"
  }
 },
 "nbformat": 4,
 "nbformat_minor": 2
}
